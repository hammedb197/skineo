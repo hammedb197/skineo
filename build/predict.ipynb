{
 "cells": [
  {
   "cell_type": "code",
   "execution_count": 1,
   "metadata": {},
   "outputs": [
    {
     "name": "stderr",
     "output_type": "stream",
     "text": [
      "Using TensorFlow backend.\n"
     ]
    }
   ],
   "source": [
    "from keras import layers\n",
    "from keras import models"
   ]
  },
  {
   "cell_type": "code",
   "execution_count": 2,
   "metadata": {},
   "outputs": [],
   "source": [
    "base_dir = 'base_dir/'\n",
    "train_dir = 'base_dir/train/'\n",
    "test_dir = 'base_dir/test'"
   ]
  },
  {
   "cell_type": "code",
   "execution_count": 3,
   "metadata": {},
   "outputs": [
    {
     "name": "stdout",
     "output_type": "stream",
     "text": [
      "Found 10458 images belonging to 23 classes.\n",
      "Found 3501 images belonging to 23 classes.\n"
     ]
    }
   ],
   "source": [
    "from keras.preprocessing.image import  ImageDataGenerator\n",
    "\n",
    "# train_datagen = ImageDataGenerator(rotation_range=40,width_shift_range=0.2,\n",
    "#                                    height_shift_range=0.2,shear_range=0.2,\n",
    "#                                    zoom_range=0.2,horizontal_flip=True,\n",
    "#                                    fill_mode='nearest')\n",
    "train_datagen = ImageDataGenerator(rescale=1./255)\n",
    "test_datagen = ImageDataGenerator(rescale=1./255)\n",
    "\n",
    "\n",
    "\n",
    "train_generator = train_datagen.flow_from_directory(train_dir, target_size=(128, 128),\n",
    "                                                    batch_size=64,class_mode='categorical')\n",
    "           \n",
    "\n",
    "\n",
    "test_generator = test_datagen.flow_from_directory(test_dir, target_size=(128, 128),batch_size=32, class_mode='categorical')"
   ]
  },
  {
   "cell_type": "code",
   "execution_count": 4,
   "metadata": {},
   "outputs": [],
   "source": [
    "from keras.models import load_model\n",
    "\n",
    "load = load_model('model.h5')"
   ]
  },
  {
   "cell_type": "code",
   "execution_count": 5,
   "metadata": {},
   "outputs": [
    {
     "name": "stdout",
     "output_type": "stream",
     "text": [
      "_________________________________________________________________\n",
      "Layer (type)                 Output Shape              Param #   \n",
      "=================================================================\n",
      "conv2d_1 (Conv2D)            (None, 126, 126, 32)      896       \n",
      "_________________________________________________________________\n",
      "max_pooling2d_1 (MaxPooling2 (None, 63, 63, 32)        0         \n",
      "_________________________________________________________________\n",
      "conv2d_2 (Conv2D)            (None, 61, 61, 64)        18496     \n",
      "_________________________________________________________________\n",
      "max_pooling2d_2 (MaxPooling2 (None, 30, 30, 64)        0         \n",
      "_________________________________________________________________\n",
      "conv2d_3 (Conv2D)            (None, 28, 28, 128)       73856     \n",
      "_________________________________________________________________\n",
      "max_pooling2d_3 (MaxPooling2 (None, 14, 14, 128)       0         \n",
      "_________________________________________________________________\n",
      "flatten_1 (Flatten)          (None, 25088)             0         \n",
      "_________________________________________________________________\n",
      "dropout_1 (Dropout)          (None, 25088)             0         \n",
      "_________________________________________________________________\n",
      "dense_1 (Dense)              (None, 256)               6422784   \n",
      "_________________________________________________________________\n",
      "dense_2 (Dense)              (None, 23)                5911      \n",
      "=================================================================\n",
      "Total params: 6,521,943\n",
      "Trainable params: 6,521,943\n",
      "Non-trainable params: 0\n",
      "_________________________________________________________________\n"
     ]
    }
   ],
   "source": [
    "load.summary()"
   ]
  },
  {
   "cell_type": "code",
   "execution_count": 6,
   "metadata": {},
   "outputs": [],
   "source": [
    "test_img, text_labels = next(test_generator)"
   ]
  },
  {
   "cell_type": "code",
   "execution_count": 7,
   "metadata": {},
   "outputs": [
    {
     "data": {
      "text/plain": [
       "{'Acne-and-Rosacea-Photo': 0,\n",
       " 'Actinic-Keratosis-Basal-Cell-Carcinoma-and-other-Malignant-Lesion': 1,\n",
       " 'Atopic-Dermatitis-Photo': 2,\n",
       " 'Bullous-Disease-Photo': 3,\n",
       " 'Cellulitis-Impetigo-and-other-Bacterial-Infection': 4,\n",
       " 'Eczema-Photo': 5,\n",
       " 'Exanthems-and-Drug-Eruption': 6,\n",
       " 'Hair-Loss-Photos-Alopecia-and-other-Hair-D': 7,\n",
       " 'Herpes-HPV-and-other-STDs-Photo': 8,\n",
       " 'Light-Diseases-and-Disorders-of-Pigmentation': 9,\n",
       " 'Lupus-and-other-Connective-Tissue-d': 10,\n",
       " 'Melanoma-Skin-Cancer-Nevi-and-Mol': 11,\n",
       " 'Nail-Fungus-and-other-Nail-D': 12,\n",
       " 'Poison-Ivy-Photos-and-other-Contact-Dermatit': 13,\n",
       " 'Psoriasis-pictures-Lichen-Planus-and-related-d': 14,\n",
       " 'Scabies-Lyme-Disease-and-other-Infestations-and-Bit': 15,\n",
       " 'Seborrheic-Keratoses-and-other-Benign-Tumor': 16,\n",
       " 'Systemic-D': 17,\n",
       " 'Tinea-Ringworm-Candidiasis-and-other-Fungal-Infection': 18,\n",
       " 'Urticaria-Hiv': 19,\n",
       " 'Vascular-Tumor': 20,\n",
       " 'Vasculitis-Photo': 21,\n",
       " 'Warts-Molluscum-and-other-Viral-Infection': 22}"
      ]
     },
     "execution_count": 7,
     "metadata": {},
     "output_type": "execute_result"
    }
   ],
   "source": [
    "test_generator.class_indices"
   ]
  },
  {
   "cell_type": "code",
   "execution_count": 8,
   "metadata": {},
   "outputs": [
    {
     "name": "stdout",
     "output_type": "stream",
     "text": [
      "Feature shape:  (64, 128, 128, 3)\n",
      "Feature shape:  4\n",
      "Train Target shape:  (64, 23)\n"
     ]
    }
   ],
   "source": [
    "for train_feature, train_target in train_generator:\n",
    "    print('Feature shape: ', train_feature.shape)\n",
    "    print('Feature shape: ', train_feature.ndim)\n",
    "    print('Train Target shape: ', train_target.shape)\n",
    "    break"
   ]
  },
  {
   "cell_type": "code",
   "execution_count": 9,
   "metadata": {},
   "outputs": [
    {
     "name": "stdout",
     "output_type": "stream",
     "text": [
      "Feature shape:  (32, 128, 128, 3)\n",
      "Feature shape:  4\n",
      "Train Target shape:  (32, 23)\n"
     ]
    }
   ],
   "source": [
    "for test_feature, test_target in test_generator:\n",
    "    print('Feature shape: ', test_feature.shape)\n",
    "    print('Feature shape: ', test_feature.ndim)\n",
    "    print('Train Target shape: ', test_target.shape)\n",
    "    break"
   ]
  },
  {
   "cell_type": "code",
   "execution_count": 10,
   "metadata": {},
   "outputs": [
    {
     "name": "stderr",
     "output_type": "stream",
     "text": [
      "/home/hammed/.local/share/virtualenvs/ds-ml-al-YMocjMnh/lib/python3.6/site-packages/matplotlib/cbook/__init__.py:424: MatplotlibDeprecationWarning: \n",
      "Passing one of 'on', 'true', 'off', 'false' as a boolean is deprecated; use an actual boolean (True/False) instead.\n",
      "  warn_deprecated(\"2.2\", \"Passing one of 'on', 'true', 'off', 'false' as a \"\n"
     ]
    },
    {
     "data": {
      "text/plain": [
       "<Figure size 640x480 with 1 Axes>"
      ]
     },
     "metadata": {},
     "output_type": "display_data"
    }
   ],
   "source": [
    "from keras.preprocessing import image\n",
    "from keras.preprocessing.image import img_to_array\n",
    "import numpy as np\n",
    "sample_image = image.load_img('warts-common-90.jpg', target_size=(128, 128))\n",
    "sample_img_tensor = img_to_array(sample_image)\n",
    "sample_img_tensor = np.expand_dims(sample_img_tensor, axis=0)\n",
    "sample_img_tensor /=255\n",
    "# print(sample_img_tensor.shape)\n",
    "import matplotlib.pyplot as plt\n",
    "plt.imshow(sample_img_tensor[0])\n",
    "plt.grid('off') \n",
    "plt.axis('off') \n",
    "\n",
    "plt.show()"
   ]
  },
  {
   "cell_type": "code",
   "execution_count": 11,
   "metadata": {},
   "outputs": [],
   "source": [
    "predict = load.predict(sample_img_tensor)"
   ]
  },
  {
   "cell_type": "code",
   "execution_count": 12,
   "metadata": {},
   "outputs": [
    {
     "data": {
      "text/plain": [
       "5"
      ]
     },
     "execution_count": 12,
     "metadata": {},
     "output_type": "execute_result"
    }
   ],
   "source": [
    "answer = np.argmax(predict, axis=1)\n",
    "answer[0]"
   ]
  },
  {
   "cell_type": "code",
   "execution_count": 13,
   "metadata": {},
   "outputs": [
    {
     "name": "stdout",
     "output_type": "stream",
     "text": [
      "Eczema-Photo\n"
     ]
    }
   ],
   "source": [
    "classes = ['Acne-and-Rosacea-Photo', 'Actinic-Keratosis-Basal-Cell-Carcinoma-and-other-Malignant-Lesion',\n",
    "           'Atopic-Dermatitis-Photo', 'Bullous-Disease-Photo', 'Cellulitis-Impetigo-and-other-Bacterial-Infection', 'Eczema-Photo',\n",
    "           'Exanthems-and-Drug-Eruption', 'Hair-Loss-Photos-Alopecia-and-other-Hair-D', 'Herpes-HPV-and-other-STDs-Photo', \n",
    "           'Light-Diseases-and-Disorders-of-Pigmentation', 'Lupus-and-other-Connective-Tissue-d', 'Melanoma-Skin-Cancer-Nevi-and-Mol',\n",
    "           'Nail-Fungus-and-other-Nail-D', 'Poison-Ivy-Photos-and-other-Contact-Dermatit', 'Psoriasis-pictures-Lichen-Planus-and-related-d', \n",
    "           'Scabies-Lyme-Disease-and-other-Infestations-and-Bit', 'Seborrheic-Keratoses-and-other-Benign-Tumor', 'Systemic-D', \n",
    "           'Tinea-Ringworm-Candidiasis-and-other-Fungal-Infection', 'Urticaria-Hiv', 'Vascular-Tumor', 'Vasculitis-Photo', \n",
    "           'Warts-Molluscum-and-other-Viral-Infection']\n",
    "for predicted, clas in enumerate(classes):\n",
    "    if predicted == answer[0]:\n",
    "        print(clas)\n"
   ]
  },
  {
   "cell_type": "code",
   "execution_count": null,
   "metadata": {},
   "outputs": [],
   "source": []
  }
 ],
 "metadata": {
  "kernelspec": {
   "display_name": "Python 3",
   "language": "python",
   "name": "python3"
  },
  "language_info": {
   "codemirror_mode": {
    "name": "ipython",
    "version": 3
   },
   "file_extension": ".py",
   "mimetype": "text/x-python",
   "name": "python",
   "nbconvert_exporter": "python",
   "pygments_lexer": "ipython3",
   "version": "3.6.5"
  }
 },
 "nbformat": 4,
 "nbformat_minor": 2
}
