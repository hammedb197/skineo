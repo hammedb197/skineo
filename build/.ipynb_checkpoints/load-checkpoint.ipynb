{
 "cells": [
  {
   "cell_type": "code",
   "execution_count": 2,
   "metadata": {},
   "outputs": [],
   "source": [
    "import pandas as pd \n",
    "from glob import glob\n",
    "import os"
   ]
  },
  {
   "cell_type": "code",
   "execution_count": 3,
   "metadata": {},
   "outputs": [],
   "source": [
    "path = 'imageclassi/dermnet'\n",
    "# train = path + \"/traina\"\n",
    "# test = path + \"/test\""
   ]
  },
  {
   "cell_type": "code",
   "execution_count": 4,
   "metadata": {},
   "outputs": [],
   "source": [
    "df = pd.DataFrame({'path' : glob(os.path.join(path, '*.jpg'))})"
   ]
  },
  {
   "cell_type": "code",
   "execution_count": 5,
   "metadata": {},
   "outputs": [
    {
     "data": {
      "text/html": [
       "<div>\n",
       "<style scoped>\n",
       "    .dataframe tbody tr th:only-of-type {\n",
       "        vertical-align: middle;\n",
       "    }\n",
       "\n",
       "    .dataframe tbody tr th {\n",
       "        vertical-align: top;\n",
       "    }\n",
       "\n",
       "    .dataframe thead th {\n",
       "        text-align: right;\n",
       "    }\n",
       "</style>\n",
       "<table border=\"1\" class=\"dataframe\">\n",
       "  <thead>\n",
       "    <tr style=\"text-align: right;\">\n",
       "      <th></th>\n",
       "      <th>path</th>\n",
       "    </tr>\n",
       "  </thead>\n",
       "  <tbody>\n",
       "    <tr>\n",
       "      <th>13636</th>\n",
       "      <td>imageclassi/dermnet/stasis-dermatitis-147.jpg</td>\n",
       "    </tr>\n",
       "    <tr>\n",
       "      <th>13637</th>\n",
       "      <td>imageclassi/dermnet/cutaneous-Larva-Migrans-53...</td>\n",
       "    </tr>\n",
       "    <tr>\n",
       "      <th>13638</th>\n",
       "      <td>imageclassi/dermnet/seborrheic-dermatitis-115.jpg</td>\n",
       "    </tr>\n",
       "    <tr>\n",
       "      <th>13639</th>\n",
       "      <td>imageclassi/dermnet/dariers-disease-23.jpg</td>\n",
       "    </tr>\n",
       "    <tr>\n",
       "      <th>13640</th>\n",
       "      <td>imageclassi/dermnet/telangiectasias-8.jpg</td>\n",
       "    </tr>\n",
       "  </tbody>\n",
       "</table>\n",
       "</div>"
      ],
      "text/plain": [
       "                                                    path\n",
       "13636      imageclassi/dermnet/stasis-dermatitis-147.jpg\n",
       "13637  imageclassi/dermnet/cutaneous-Larva-Migrans-53...\n",
       "13638  imageclassi/dermnet/seborrheic-dermatitis-115.jpg\n",
       "13639         imageclassi/dermnet/dariers-disease-23.jpg\n",
       "13640          imageclassi/dermnet/telangiectasias-8.jpg"
      ]
     },
     "execution_count": 5,
     "metadata": {},
     "output_type": "execute_result"
    }
   ],
   "source": [
    "df.tail()\n"
   ]
  },
  {
   "cell_type": "code",
   "execution_count": 6,
   "metadata": {},
   "outputs": [],
   "source": [
    "# df['id'] = df.path.map(lambda x: x.split('/')[3].split('.')[0]) # keep only the file names in 'id'\n",
    "df['id'] = df.path.map(lambda x: x.split('/')[2])"
   ]
  },
  {
   "cell_type": "code",
   "execution_count": 7,
   "metadata": {},
   "outputs": [
    {
     "data": {
      "text/html": [
       "<div>\n",
       "<style scoped>\n",
       "    .dataframe tbody tr th:only-of-type {\n",
       "        vertical-align: middle;\n",
       "    }\n",
       "\n",
       "    .dataframe tbody tr th {\n",
       "        vertical-align: top;\n",
       "    }\n",
       "\n",
       "    .dataframe thead th {\n",
       "        text-align: right;\n",
       "    }\n",
       "</style>\n",
       "<table border=\"1\" class=\"dataframe\">\n",
       "  <thead>\n",
       "    <tr style=\"text-align: right;\">\n",
       "      <th></th>\n",
       "      <th>path</th>\n",
       "      <th>id</th>\n",
       "    </tr>\n",
       "  </thead>\n",
       "  <tbody>\n",
       "    <tr>\n",
       "      <th>0</th>\n",
       "      <td>imageclassi/dermnet/eczema-nummular-177.jpg</td>\n",
       "      <td>eczema-nummular-177.jpg</td>\n",
       "    </tr>\n",
       "    <tr>\n",
       "      <th>1</th>\n",
       "      <td>imageclassi/dermnet/keloids-35.jpg</td>\n",
       "      <td>keloids-35.jpg</td>\n",
       "    </tr>\n",
       "    <tr>\n",
       "      <th>2</th>\n",
       "      <td>imageclassi/dermnet/halo-nevus-28.jpg</td>\n",
       "      <td>halo-nevus-28.jpg</td>\n",
       "    </tr>\n",
       "    <tr>\n",
       "      <th>3</th>\n",
       "      <td>imageclassi/dermnet/eczema-nummular-167.jpg</td>\n",
       "      <td>eczema-nummular-167.jpg</td>\n",
       "    </tr>\n",
       "    <tr>\n",
       "      <th>4</th>\n",
       "      <td>imageclassi/dermnet/telangiectasias-23.jpg</td>\n",
       "      <td>telangiectasias-23.jpg</td>\n",
       "    </tr>\n",
       "  </tbody>\n",
       "</table>\n",
       "</div>"
      ],
      "text/plain": [
       "                                          path                       id\n",
       "0  imageclassi/dermnet/eczema-nummular-177.jpg  eczema-nummular-177.jpg\n",
       "1           imageclassi/dermnet/keloids-35.jpg           keloids-35.jpg\n",
       "2        imageclassi/dermnet/halo-nevus-28.jpg        halo-nevus-28.jpg\n",
       "3  imageclassi/dermnet/eczema-nummular-167.jpg  eczema-nummular-167.jpg\n",
       "4   imageclassi/dermnet/telangiectasias-23.jpg   telangiectasias-23.jpg"
      ]
     },
     "execution_count": 7,
     "metadata": {},
     "output_type": "execute_result"
    }
   ],
   "source": [
    "df.head()"
   ]
  },
  {
   "cell_type": "code",
   "execution_count": 8,
   "metadata": {},
   "outputs": [],
   "source": [
    "data = pd.read_csv('imageclassi/dermnetwithlink.csv')"
   ]
  },
  {
   "cell_type": "code",
   "execution_count": 9,
   "metadata": {},
   "outputs": [
    {
     "data": {
      "text/html": [
       "<div>\n",
       "<style scoped>\n",
       "    .dataframe tbody tr th:only-of-type {\n",
       "        vertical-align: middle;\n",
       "    }\n",
       "\n",
       "    .dataframe tbody tr th {\n",
       "        vertical-align: top;\n",
       "    }\n",
       "\n",
       "    .dataframe thead th {\n",
       "        text-align: right;\n",
       "    }\n",
       "</style>\n",
       "<table border=\"1\" class=\"dataframe\">\n",
       "  <thead>\n",
       "    <tr style=\"text-align: right;\">\n",
       "      <th></th>\n",
       "      <th>category</th>\n",
       "      <th>imagelink</th>\n",
       "      <th>subcategory</th>\n",
       "    </tr>\n",
       "  </thead>\n",
       "  <tbody>\n",
       "    <tr>\n",
       "      <th>0</th>\n",
       "      <td>/images/Acne-and-Rosacea-Photos/</td>\n",
       "      <td>http://www.dermnet.com/dn2/allJPGThumb3/acne-c...</td>\n",
       "      <td>/images/Acne-Closed-Comedo/photos/2</td>\n",
       "    </tr>\n",
       "    <tr>\n",
       "      <th>1</th>\n",
       "      <td>/images/Acne-and-Rosacea-Photos/</td>\n",
       "      <td>http://www.dermnet.com/dn2/allJPGThumb3/acne-c...</td>\n",
       "      <td>/images/Acne-Closed-Comedo/photos/2</td>\n",
       "    </tr>\n",
       "    <tr>\n",
       "      <th>2</th>\n",
       "      <td>/images/Acne-and-Rosacea-Photos/</td>\n",
       "      <td>http://www.dermnet.com/dn2/allJPGThumb3/acne-c...</td>\n",
       "      <td>/images/Acne-Closed-Comedo/photos/2</td>\n",
       "    </tr>\n",
       "    <tr>\n",
       "      <th>3</th>\n",
       "      <td>/images/Acne-and-Rosacea-Photos/</td>\n",
       "      <td>http://www.dermnet.com/dn2/allJPGThumb3/acne-c...</td>\n",
       "      <td>/images/Acne-Closed-Comedo/photos/2</td>\n",
       "    </tr>\n",
       "    <tr>\n",
       "      <th>4</th>\n",
       "      <td>/images/Acne-and-Rosacea-Photos/</td>\n",
       "      <td>http://www.dermnet.com/dn2/allJPGThumb3/acne-c...</td>\n",
       "      <td>/images/Acne-Closed-Comedo/photos/2</td>\n",
       "    </tr>\n",
       "  </tbody>\n",
       "</table>\n",
       "</div>"
      ],
      "text/plain": [
       "                           category  \\\n",
       "0  /images/Acne-and-Rosacea-Photos/   \n",
       "1  /images/Acne-and-Rosacea-Photos/   \n",
       "2  /images/Acne-and-Rosacea-Photos/   \n",
       "3  /images/Acne-and-Rosacea-Photos/   \n",
       "4  /images/Acne-and-Rosacea-Photos/   \n",
       "\n",
       "                                           imagelink  \\\n",
       "0  http://www.dermnet.com/dn2/allJPGThumb3/acne-c...   \n",
       "1  http://www.dermnet.com/dn2/allJPGThumb3/acne-c...   \n",
       "2  http://www.dermnet.com/dn2/allJPGThumb3/acne-c...   \n",
       "3  http://www.dermnet.com/dn2/allJPGThumb3/acne-c...   \n",
       "4  http://www.dermnet.com/dn2/allJPGThumb3/acne-c...   \n",
       "\n",
       "                           subcategory  \n",
       "0  /images/Acne-Closed-Comedo/photos/2  \n",
       "1  /images/Acne-Closed-Comedo/photos/2  \n",
       "2  /images/Acne-Closed-Comedo/photos/2  \n",
       "3  /images/Acne-Closed-Comedo/photos/2  \n",
       "4  /images/Acne-Closed-Comedo/photos/2  "
      ]
     },
     "execution_count": 9,
     "metadata": {},
     "output_type": "execute_result"
    }
   ],
   "source": [
    "# df = df.merge(labels, on = \"id\") # merge labels and filepaths\n",
    "data.head()"
   ]
  },
  {
   "cell_type": "code",
   "execution_count": 10,
   "metadata": {},
   "outputs": [],
   "source": [
    "data['id'] = data.imagelink.map(lambda x: x.split('/')[5])"
   ]
  },
  {
   "cell_type": "code",
   "execution_count": 11,
   "metadata": {},
   "outputs": [],
   "source": [
    "new = data[['category', 'subcategory']]\n",
    "df = new.select_dtypes(['object'])\n",
    "data[df.columns] = df.apply(lambda x: x.str.strip('/images'))"
   ]
  },
  {
   "cell_type": "code",
   "execution_count": 12,
   "metadata": {},
   "outputs": [
    {
     "data": {
      "text/html": [
       "<div>\n",
       "<style scoped>\n",
       "    .dataframe tbody tr th:only-of-type {\n",
       "        vertical-align: middle;\n",
       "    }\n",
       "\n",
       "    .dataframe tbody tr th {\n",
       "        vertical-align: top;\n",
       "    }\n",
       "\n",
       "    .dataframe thead th {\n",
       "        text-align: right;\n",
       "    }\n",
       "</style>\n",
       "<table border=\"1\" class=\"dataframe\">\n",
       "  <thead>\n",
       "    <tr style=\"text-align: right;\">\n",
       "      <th></th>\n",
       "      <th>category</th>\n",
       "      <th>imagelink</th>\n",
       "      <th>subcategory</th>\n",
       "      <th>id</th>\n",
       "    </tr>\n",
       "  </thead>\n",
       "  <tbody>\n",
       "    <tr>\n",
       "      <th>0</th>\n",
       "      <td>Acne-and-Rosacea-Photo</td>\n",
       "      <td>http://www.dermnet.com/dn2/allJPGThumb3/acne-c...</td>\n",
       "      <td>Acne-Closed-Comedo/photos/2</td>\n",
       "      <td>acne-closed-comedo-18.jpg</td>\n",
       "    </tr>\n",
       "    <tr>\n",
       "      <th>1</th>\n",
       "      <td>Acne-and-Rosacea-Photo</td>\n",
       "      <td>http://www.dermnet.com/dn2/allJPGThumb3/acne-c...</td>\n",
       "      <td>Acne-Closed-Comedo/photos/2</td>\n",
       "      <td>acne-closed-comedo-19.jpg</td>\n",
       "    </tr>\n",
       "    <tr>\n",
       "      <th>2</th>\n",
       "      <td>Acne-and-Rosacea-Photo</td>\n",
       "      <td>http://www.dermnet.com/dn2/allJPGThumb3/acne-c...</td>\n",
       "      <td>Acne-Closed-Comedo/photos/2</td>\n",
       "      <td>acne-closed-comedo-2.jpg</td>\n",
       "    </tr>\n",
       "    <tr>\n",
       "      <th>3</th>\n",
       "      <td>Acne-and-Rosacea-Photo</td>\n",
       "      <td>http://www.dermnet.com/dn2/allJPGThumb3/acne-c...</td>\n",
       "      <td>Acne-Closed-Comedo/photos/2</td>\n",
       "      <td>acne-closed-comedo-20.jpg</td>\n",
       "    </tr>\n",
       "    <tr>\n",
       "      <th>4</th>\n",
       "      <td>Acne-and-Rosacea-Photo</td>\n",
       "      <td>http://www.dermnet.com/dn2/allJPGThumb3/acne-c...</td>\n",
       "      <td>Acne-Closed-Comedo/photos/2</td>\n",
       "      <td>acne-closed-comedo-21.jpg</td>\n",
       "    </tr>\n",
       "  </tbody>\n",
       "</table>\n",
       "</div>"
      ],
      "text/plain": [
       "                 category                                          imagelink  \\\n",
       "0  Acne-and-Rosacea-Photo  http://www.dermnet.com/dn2/allJPGThumb3/acne-c...   \n",
       "1  Acne-and-Rosacea-Photo  http://www.dermnet.com/dn2/allJPGThumb3/acne-c...   \n",
       "2  Acne-and-Rosacea-Photo  http://www.dermnet.com/dn2/allJPGThumb3/acne-c...   \n",
       "3  Acne-and-Rosacea-Photo  http://www.dermnet.com/dn2/allJPGThumb3/acne-c...   \n",
       "4  Acne-and-Rosacea-Photo  http://www.dermnet.com/dn2/allJPGThumb3/acne-c...   \n",
       "\n",
       "                   subcategory                         id  \n",
       "0  Acne-Closed-Comedo/photos/2  acne-closed-comedo-18.jpg  \n",
       "1  Acne-Closed-Comedo/photos/2  acne-closed-comedo-19.jpg  \n",
       "2  Acne-Closed-Comedo/photos/2   acne-closed-comedo-2.jpg  \n",
       "3  Acne-Closed-Comedo/photos/2  acne-closed-comedo-20.jpg  \n",
       "4  Acne-Closed-Comedo/photos/2  acne-closed-comedo-21.jpg  "
      ]
     },
     "execution_count": 12,
     "metadata": {},
     "output_type": "execute_result"
    }
   ],
   "source": [
    "data.head()"
   ]
  },
  {
   "cell_type": "code",
   "execution_count": 13,
   "metadata": {},
   "outputs": [
    {
     "data": {
      "text/plain": [
       "(13966, 4)"
      ]
     },
     "execution_count": 13,
     "metadata": {},
     "output_type": "execute_result"
    }
   ],
   "source": [
    "data.shape"
   ]
  },
  {
   "cell_type": "code",
   "execution_count": 14,
   "metadata": {},
   "outputs": [],
   "source": [
    "df = data[['category', 'id']]"
   ]
  },
  {
   "cell_type": "code",
   "execution_count": 15,
   "metadata": {},
   "outputs": [
    {
     "data": {
      "text/plain": [
       "category    0\n",
       "id          0\n",
       "dtype: int64"
      ]
     },
     "execution_count": 15,
     "metadata": {},
     "output_type": "execute_result"
    }
   ],
   "source": [
    "df.isnull().sum()"
   ]
  },
  {
   "cell_type": "code",
   "execution_count": 16,
   "metadata": {},
   "outputs": [],
   "source": [
    "# df = pd.read_csv('data.csv')\n"
   ]
  },
  {
   "cell_type": "code",
   "execution_count": 17,
   "metadata": {},
   "outputs": [
    {
     "data": {
      "text/html": [
       "<div>\n",
       "<style scoped>\n",
       "    .dataframe tbody tr th:only-of-type {\n",
       "        vertical-align: middle;\n",
       "    }\n",
       "\n",
       "    .dataframe tbody tr th {\n",
       "        vertical-align: top;\n",
       "    }\n",
       "\n",
       "    .dataframe thead th {\n",
       "        text-align: right;\n",
       "    }\n",
       "</style>\n",
       "<table border=\"1\" class=\"dataframe\">\n",
       "  <thead>\n",
       "    <tr style=\"text-align: right;\">\n",
       "      <th></th>\n",
       "      <th>category</th>\n",
       "      <th>id</th>\n",
       "    </tr>\n",
       "  </thead>\n",
       "  <tbody>\n",
       "    <tr>\n",
       "      <th>0</th>\n",
       "      <td>Acne-and-Rosacea-Photo</td>\n",
       "      <td>acne-closed-comedo-18.jpg</td>\n",
       "    </tr>\n",
       "    <tr>\n",
       "      <th>1</th>\n",
       "      <td>Acne-and-Rosacea-Photo</td>\n",
       "      <td>acne-closed-comedo-19.jpg</td>\n",
       "    </tr>\n",
       "    <tr>\n",
       "      <th>2</th>\n",
       "      <td>Acne-and-Rosacea-Photo</td>\n",
       "      <td>acne-closed-comedo-2.jpg</td>\n",
       "    </tr>\n",
       "    <tr>\n",
       "      <th>3</th>\n",
       "      <td>Acne-and-Rosacea-Photo</td>\n",
       "      <td>acne-closed-comedo-20.jpg</td>\n",
       "    </tr>\n",
       "    <tr>\n",
       "      <th>4</th>\n",
       "      <td>Acne-and-Rosacea-Photo</td>\n",
       "      <td>acne-closed-comedo-21.jpg</td>\n",
       "    </tr>\n",
       "  </tbody>\n",
       "</table>\n",
       "</div>"
      ],
      "text/plain": [
       "                 category                         id\n",
       "0  Acne-and-Rosacea-Photo  acne-closed-comedo-18.jpg\n",
       "1  Acne-and-Rosacea-Photo  acne-closed-comedo-19.jpg\n",
       "2  Acne-and-Rosacea-Photo   acne-closed-comedo-2.jpg\n",
       "3  Acne-and-Rosacea-Photo  acne-closed-comedo-20.jpg\n",
       "4  Acne-and-Rosacea-Photo  acne-closed-comedo-21.jpg"
      ]
     },
     "execution_count": 17,
     "metadata": {},
     "output_type": "execute_result"
    }
   ],
   "source": [
    "df.head()"
   ]
  },
  {
   "cell_type": "code",
   "execution_count": 18,
   "metadata": {},
   "outputs": [
    {
     "data": {
      "text/plain": [
       "23"
      ]
     },
     "execution_count": 18,
     "metadata": {},
     "output_type": "execute_result"
    }
   ],
   "source": [
    "values = df.category.value_counts().sort_index()\n",
    "len(values) "
   ]
  },
  {
   "cell_type": "code",
   "execution_count": 19,
   "metadata": {},
   "outputs": [],
   "source": [
    "# va = df.category.value_counts().sort_index() * 75/100\n",
    "# va"
   ]
  },
  {
   "cell_type": "code",
   "execution_count": 20,
   "metadata": {},
   "outputs": [
    {
     "name": "stdout",
     "output_type": "stream",
     "text": [
      "train_size: 517.5 total value 690 remain test_size 172.5\n",
      "train_size: 713.25 total value 951 remain test_size 237.75\n",
      "train_size: 375.0 total value 500 remain test_size 125.0\n",
      "train_size: 322.5 total value 430 remain test_size 107.5\n",
      "train_size: 131.25 total value 175 remain test_size 43.75\n",
      "train_size: 852.75 total value 1137 remain test_size 284.25\n",
      "train_size: 256.5 total value 342 remain test_size 85.5\n",
      "train_size: 117.0 total value 156 remain test_size 39.0\n",
      "train_size: 287.25 total value 383 remain test_size 95.75\n",
      "train_size: 345.0 total value 460 remain test_size 115.0\n",
      "train_size: 288.75 total value 385 remain test_size 96.25\n",
      "train_size: 309.75 total value 413 remain test_size 103.25\n",
      "train_size: 643.5 total value 858 remain test_size 214.5\n",
      "train_size: 174.75 total value 233 remain test_size 58.25\n",
      "train_size: 1018.5 total value 1358 remain test_size 339.5\n",
      "train_size: 251.25 total value 335 remain test_size 83.75\n",
      "train_size: 1009.5 total value 1346 remain test_size 336.5\n",
      "train_size: 357.0 total value 476 remain test_size 119.0\n",
      "train_size: 936.75 total value 1249 remain test_size 312.25\n",
      "train_size: 128.25 total value 171 remain test_size 42.75\n",
      "train_size: 334.5 total value 446 remain test_size 111.5\n",
      "train_size: 288.75 total value 385 remain test_size 96.25\n",
      "train_size: 815.25 total value 1087 remain test_size 271.75\n"
     ]
    }
   ],
   "source": [
    "for i in values:\n",
    "    test = i * 75/100\n",
    "    print('train_size:',test, 'total value', i, 'remain','test_size', i - test)"
   ]
  },
  {
   "cell_type": "code",
   "execution_count": 21,
   "metadata": {},
   "outputs": [
    {
     "data": {
      "text/plain": [
       "['Acne-and-Rosacea-Photo',\n",
       " 'Actinic-Keratosis-Basal-Cell-Carcinoma-and-other-Malignant-Lesion',\n",
       " 'Atopic-Dermatitis-Photo',\n",
       " 'Bullous-Disease-Photo',\n",
       " 'Cellulitis-Impetigo-and-other-Bacterial-Infection',\n",
       " 'Eczema-Photo',\n",
       " 'Exanthems-and-Drug-Eruption',\n",
       " 'Hair-Loss-Photos-Alopecia-and-other-Hair-D',\n",
       " 'Herpes-HPV-and-other-STDs-Photo',\n",
       " 'Light-Diseases-and-Disorders-of-Pigmentation',\n",
       " 'Lupus-and-other-Connective-Tissue-d',\n",
       " 'Melanoma-Skin-Cancer-Nevi-and-Mol',\n",
       " 'Nail-Fungus-and-other-Nail-D',\n",
       " 'Poison-Ivy-Photos-and-other-Contact-Dermatit',\n",
       " 'Psoriasis-pictures-Lichen-Planus-and-related-d',\n",
       " 'Scabies-Lyme-Disease-and-other-Infestations-and-Bit',\n",
       " 'Seborrheic-Keratoses-and-other-Benign-Tumor',\n",
       " 'Systemic-D',\n",
       " 'Tinea-Ringworm-Candidiasis-and-other-Fungal-Infection',\n",
       " 'Urticaria-Hiv',\n",
       " 'Vascular-Tumor',\n",
       " 'Vasculitis-Photo',\n",
       " 'Warts-Molluscum-and-other-Viral-Infection']"
      ]
     },
     "execution_count": 21,
     "metadata": {},
     "output_type": "execute_result"
    }
   ],
   "source": [
    "cat = df['category'].unique().tolist()\n",
    "def get_category(cat):\n",
    "    column = []\n",
    "    for i in cat:\n",
    "        column.append(i)\n",
    "    return column\n",
    "\n",
    "get_category(cat)"
   ]
  },
  {
   "cell_type": "code",
   "execution_count": 23,
   "metadata": {},
   "outputs": [],
   "source": [
    "import os, shutil\n",
    "original_dataset_dir = 'imageclassi/dermnet/'\n",
    "base_dir = 'base_dir/'\n",
    "if not os.path.exists(base_dir): os.mkdir(base_dir)\n",
    "train_dir = os.path.join(base_dir, 'train')\n",
    "test_dir = os.path.join(base_dir, 'test')\n",
    "if not os.path.exists(train_dir): os.mkdir(train_dir)\n",
    "if not os.path.exists(test_dir): os.mkdir(test_dir)\n",
    "for i in get_category(cat):\n",
    "    train_each_dir = os.path.join(train_dir, i)\n",
    "    if not os.path.exists(train_each_dir): os.mkdir(train_each_dir)\n",
    "    test_each_dir = os.path.join(test_dir, i)\n",
    "    if not os.path.exists(test_each_dir): os.mkdir(test_each_dir)"
   ]
  },
  {
   "cell_type": "code",
   "execution_count": 24,
   "metadata": {},
   "outputs": [
    {
     "name": "stdout",
     "output_type": "stream",
     "text": [
      "[517.5, 713.25, 375.0, 322.5, 131.25, 852.75, 256.5, 117.0, 287.25, 345.0, 288.75, 309.75, 643.5, 174.75, 1018.5, 251.25, 1009.5, 357.0, 936.75, 128.25, 334.5, 288.75, 815.25]\n"
     ]
    }
   ],
   "source": [
    "train_result = []\n",
    "for tresult in values * 75/100:    \n",
    "    train_result.append(tresult)\n",
    "#     print(train_result)\n",
    "print(train_result)"
   ]
  },
  {
   "cell_type": "code",
   "execution_count": 26,
   "metadata": {},
   "outputs": [
    {
     "name": "stdout",
     "output_type": "stream",
     "text": [
      "[172.5, 237.75, 125.0, 107.5, 43.75, 284.25, 85.5, 39.0, 95.75, 115.0, 96.25, 103.25, 214.5, 58.25, 339.5, 83.75, 336.5, 119.0, 312.25, 42.75, 111.5, 96.25, 271.75]\n"
     ]
    }
   ],
   "source": [
    "test_result = []\n",
    "for fresult in values * 25/100:    \n",
    "    test_result.append(fresult)\n",
    "print(test_result)"
   ]
  },
  {
   "cell_type": "code",
   "execution_count": 28,
   "metadata": {},
   "outputs": [],
   "source": [
    "\n",
    "for f, category in  enumerate(df['category'].unique()):\n",
    "\n",
    "    categories = df[df['category'] == category]['id'].tolist()\n",
    "    train_name = categories[0: int(train_result[f])]\n",
    " \n",
    "    \n",
    "    for train_image_name in train_name:\n",
    "        train_src = os.path.join(original_dataset_dir, train_image_name)         \n",
    "        train_dst = os.path.join('base_dir/train/',category, train_image_name)\n",
    "        shutil.copyfile(train_src, train_dst)\n",
    "        \n",
    "#     test_name = categories[(int(len(categories))-int(test_result[f])):]\n",
    "#     test_name = categories[0: int(test_result[f])]\n",
    "    test_name = categories[int(train_result[f]):]\n",
    "#     print(len(test_name))\n",
    "    for test_image_name in test_name:  \n",
    "        test_src = os.path.join(original_dataset_dir, test_image_name)         \n",
    "        test_dst = os.path.join('base_dir/test/',category, test_image_name)\n",
    "        shutil.copyfile(test_src, test_dst)\n"
   ]
  },
  {
   "cell_type": "code",
   "execution_count": 29,
   "metadata": {},
   "outputs": [],
   "source": [
    "# os.listdir('base_dir/train/Urticaria-Hiv')"
   ]
  },
  {
   "cell_type": "code",
   "execution_count": 29,
   "metadata": {},
   "outputs": [
    {
     "data": {
      "text/plain": [
       "['Tinea-Ringworm-Candidiasis-and-other-Fungal-Infection',\n",
       " 'Urticaria-Hiv',\n",
       " 'Systemic-D',\n",
       " 'Vasculitis-Photo',\n",
       " 'Poison-Ivy-Photos-and-other-Contact-Dermatit',\n",
       " 'Atopic-Dermatitis-Photo',\n",
       " 'Melanoma-Skin-Cancer-Nevi-and-Mol',\n",
       " 'Light-Diseases-and-Disorders-of-Pigmentation',\n",
       " 'Cellulitis-Impetigo-and-other-Bacterial-Infection',\n",
       " 'Scabies-Lyme-Disease-and-other-Infestations-and-Bit',\n",
       " 'Lupus-and-other-Connective-Tissue-d',\n",
       " 'Herpes-HPV-and-other-STDs-Photo',\n",
       " 'Psoriasis-pictures-Lichen-Planus-and-related-d',\n",
       " 'Hair-Loss-Photos-Alopecia-and-other-Hair-D',\n",
       " 'Seborrheic-Keratoses-and-other-Benign-Tumor',\n",
       " 'Bullous-Disease-Photo',\n",
       " 'Nail-Fungus-and-other-Nail-D',\n",
       " 'Warts-Molluscum-and-other-Viral-Infection',\n",
       " 'Acne-and-Rosacea-Photo',\n",
       " 'Vascular-Tumor',\n",
       " 'Exanthems-and-Drug-Eruption',\n",
       " 'Eczema-Photo',\n",
       " 'Actinic-Keratosis-Basal-Cell-Carcinoma-and-other-Malignant-Lesion']"
      ]
     },
     "execution_count": 29,
     "metadata": {},
     "output_type": "execute_result"
    }
   ],
   "source": [
    "os.listdir('base_dir/test/')"
   ]
  }
 ],
 "metadata": {
  "kernelspec": {
   "display_name": "Python 3",
   "language": "python",
   "name": "python3"
  },
  "language_info": {
   "codemirror_mode": {
    "name": "ipython",
    "version": 3
   },
   "file_extension": ".py",
   "mimetype": "text/x-python",
   "name": "python",
   "nbconvert_exporter": "python",
   "pygments_lexer": "ipython3",
   "version": "3.6.5"
  }
 },
 "nbformat": 4,
 "nbformat_minor": 2
}
