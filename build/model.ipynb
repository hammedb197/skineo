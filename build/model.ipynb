{
 "cells": [
  {
   "cell_type": "code",
   "execution_count": 1,
   "metadata": {},
   "outputs": [
    {
     "name": "stderr",
     "output_type": "stream",
     "text": [
      "Using TensorFlow backend.\n"
     ]
    }
   ],
   "source": [
    "from keras import layers\n",
    "from keras import models"
   ]
  },
  {
   "cell_type": "code",
   "execution_count": 2,
   "metadata": {},
   "outputs": [],
   "source": [
    "base_dir = 'base_dir/'\n",
    "train_dir = 'base_dir/train/'\n",
    "test_dir = 'base_dir/test'"
   ]
  },
  {
   "cell_type": "code",
   "execution_count": null,
   "metadata": {},
   "outputs": [],
   "source": []
  },
  {
   "cell_type": "code",
   "execution_count": 3,
   "metadata": {},
   "outputs": [],
   "source": [
    "model = models.Sequential()\n",
    "model.add(layers.Conv2D(32, (3, 3), activation='relu',\n",
    "input_shape=(128, 128, 3)))\n",
    "model.add(layers.MaxPooling2D((2, 2)))\n",
    "model.add(layers.Conv2D(64, (3, 3), activation='relu'))\n",
    "model.add(layers.MaxPooling2D((2, 2)))\n",
    "model.add(layers.Conv2D(128, (3, 3), activation='relu'))\n",
    "model.add(layers.MaxPooling2D((2, 2)))\n",
    "# model.add(layers.Conv2D(512, (3, 3), activation='relu'))\n",
    "# model.add(layers.MaxPooling2D((2, 2)))\n",
    "model.add(layers.Flatten())\n",
    "model.add(layers.Dropout(0.2))\n",
    "model.add(layers.Dense(256, activation='relu'))\n",
    "model.add(layers.Dense(23, activation='softmax'))"
   ]
  },
  {
   "cell_type": "code",
   "execution_count": 4,
   "metadata": {},
   "outputs": [
    {
     "name": "stdout",
     "output_type": "stream",
     "text": [
      "_________________________________________________________________\n",
      "Layer (type)                 Output Shape              Param #   \n",
      "=================================================================\n",
      "conv2d_1 (Conv2D)            (None, 126, 126, 32)      896       \n",
      "_________________________________________________________________\n",
      "max_pooling2d_1 (MaxPooling2 (None, 63, 63, 32)        0         \n",
      "_________________________________________________________________\n",
      "conv2d_2 (Conv2D)            (None, 61, 61, 64)        18496     \n",
      "_________________________________________________________________\n",
      "max_pooling2d_2 (MaxPooling2 (None, 30, 30, 64)        0         \n",
      "_________________________________________________________________\n",
      "conv2d_3 (Conv2D)            (None, 28, 28, 128)       73856     \n",
      "_________________________________________________________________\n",
      "max_pooling2d_3 (MaxPooling2 (None, 14, 14, 128)       0         \n",
      "_________________________________________________________________\n",
      "flatten_1 (Flatten)          (None, 25088)             0         \n",
      "_________________________________________________________________\n",
      "dropout_1 (Dropout)          (None, 25088)             0         \n",
      "_________________________________________________________________\n",
      "dense_1 (Dense)              (None, 256)               6422784   \n",
      "_________________________________________________________________\n",
      "dense_2 (Dense)              (None, 23)                5911      \n",
      "=================================================================\n",
      "Total params: 6,521,943\n",
      "Trainable params: 6,521,943\n",
      "Non-trainable params: 0\n",
      "_________________________________________________________________\n"
     ]
    }
   ],
   "source": [
    "model.summary()"
   ]
  },
  {
   "cell_type": "code",
   "execution_count": 5,
   "metadata": {},
   "outputs": [],
   "source": [
    "model.compile(optimizer='Adam', loss='categorical_crossentropy',metrics=['accuracy'])\n"
   ]
  },
  {
   "cell_type": "code",
   "execution_count": 6,
   "metadata": {},
   "outputs": [],
   "source": [
    "from keras.preprocessing.image import  ImageDataGenerator\n",
    "\n",
    "# train_datagen = ImageDataGenerator(rotation_range=40,width_shift_range=0.2,\n",
    "#                                    height_shift_range=0.2,shear_range=0.2,\n",
    "#                                    zoom_range=0.2,horizontal_flip=True,\n",
    "#                                    fill_mode='nearest')\n",
    "train_datagen = ImageDataGenerator(rescale=1./255)\n",
    "test_datagen = ImageDataGenerator(rescale=1./255)\n",
    "\n"
   ]
  },
  {
   "cell_type": "code",
   "execution_count": 7,
   "metadata": {},
   "outputs": [
    {
     "name": "stdout",
     "output_type": "stream",
     "text": [
      "Found 10458 images belonging to 23 classes.\n"
     ]
    }
   ],
   "source": [
    "train_generator = train_datagen.flow_from_directory(train_dir, target_size=(128, 128),\n",
    "                                                    batch_size=64,class_mode='categorical')\n",
    "           "
   ]
  },
  {
   "cell_type": "code",
   "execution_count": 8,
   "metadata": {},
   "outputs": [
    {
     "name": "stdout",
     "output_type": "stream",
     "text": [
      "Found 3501 images belonging to 23 classes.\n"
     ]
    }
   ],
   "source": [
    "test_generator = test_datagen.flow_from_directory(test_dir, target_size=(128, 128),\n",
    "                                                  batch_size=32, class_mode='categorical')"
   ]
  },
  {
   "cell_type": "code",
   "execution_count": 9,
   "metadata": {},
   "outputs": [
    {
     "name": "stdout",
     "output_type": "stream",
     "text": [
      "Feature shape:  (64, 128, 128, 3)\n",
      "Feature shape:  4\n",
      "Train Target shape:  (64, 23)\n"
     ]
    }
   ],
   "source": [
    "for train_feature, train_target in train_generator:\n",
    "    print('Feature shape: ', train_feature.shape)\n",
    "    print('Feature shape: ', train_feature.ndim)\n",
    "    print('Train Target shape: ', train_target.shape)\n",
    "    break"
   ]
  },
  {
   "cell_type": "code",
   "execution_count": 10,
   "metadata": {},
   "outputs": [
    {
     "name": "stdout",
     "output_type": "stream",
     "text": [
      "Epoch 1/10\n",
      "100/100 [==============================] - 1167s 12s/step - loss: 2.8552 - acc: 0.1482 - val_loss: 2.9202 - val_acc: 0.1481\n",
      "Epoch 2/10\n",
      "100/100 [==============================] - 1681s 17s/step - loss: 2.7163 - acc: 0.1822 - val_loss: 2.8741 - val_acc: 0.1619\n",
      "Epoch 3/10\n",
      "100/100 [==============================] - 1641s 16s/step - loss: 2.5931 - acc: 0.2194 - val_loss: 2.8182 - val_acc: 0.1676\n",
      "Epoch 4/10\n",
      "100/100 [==============================] - 1748s 17s/step - loss: 2.4354 - acc: 0.2708 - val_loss: 3.0227 - val_acc: 0.1731\n",
      "Epoch 5/10\n",
      "100/100 [==============================] - 1964s 20s/step - loss: 2.4094 - acc: 0.2789 - val_loss: 3.0132 - val_acc: 0.1670\n",
      "Epoch 6/10\n",
      "100/100 [==============================] - 1372s 14s/step - loss: 2.1961 - acc: 0.3370 - val_loss: 2.9480 - val_acc: 0.1787\n",
      "Epoch 7/10\n",
      "100/100 [==============================] - 1550s 15s/step - loss: 2.0479 - acc: 0.3893 - val_loss: 3.1912 - val_acc: 0.1815\n",
      "Epoch 8/10\n",
      "100/100 [==============================] - 1379s 14s/step - loss: 1.9147 - acc: 0.4247 - val_loss: 3.1243 - val_acc: 0.2081\n",
      "Epoch 9/10\n",
      "100/100 [==============================] - 1210s 12s/step - loss: 1.6785 - acc: 0.4964 - val_loss: 3.4289 - val_acc: 0.1929\n",
      "Epoch 10/10\n",
      "100/100 [==============================] - 1150s 12s/step - loss: 1.5562 - acc: 0.5239 - val_loss: 3.8084 - val_acc: 0.1812\n"
     ]
    }
   ],
   "source": [
    "history = model.fit_generator(train_generator, steps_per_epoch=100,epochs=10, \n",
    "                              validation_data=test_generator,validation_steps=50)"
   ]
  },
  {
   "cell_type": "code",
   "execution_count": 11,
   "metadata": {},
   "outputs": [],
   "source": [
    "# ImageDataGenerator?"
   ]
  },
  {
   "cell_type": "code",
   "execution_count": 12,
   "metadata": {},
   "outputs": [
    {
     "data": {
      "text/plain": [
       "{'Acne-and-Rosacea-Photo': 0,\n",
       " 'Actinic-Keratosis-Basal-Cell-Carcinoma-and-other-Malignant-Lesion': 1,\n",
       " 'Atopic-Dermatitis-Photo': 2,\n",
       " 'Bullous-Disease-Photo': 3,\n",
       " 'Cellulitis-Impetigo-and-other-Bacterial-Infection': 4,\n",
       " 'Eczema-Photo': 5,\n",
       " 'Exanthems-and-Drug-Eruption': 6,\n",
       " 'Hair-Loss-Photos-Alopecia-and-other-Hair-D': 7,\n",
       " 'Herpes-HPV-and-other-STDs-Photo': 8,\n",
       " 'Light-Diseases-and-Disorders-of-Pigmentation': 9,\n",
       " 'Lupus-and-other-Connective-Tissue-d': 10,\n",
       " 'Melanoma-Skin-Cancer-Nevi-and-Mol': 11,\n",
       " 'Nail-Fungus-and-other-Nail-D': 12,\n",
       " 'Poison-Ivy-Photos-and-other-Contact-Dermatit': 13,\n",
       " 'Psoriasis-pictures-Lichen-Planus-and-related-d': 14,\n",
       " 'Scabies-Lyme-Disease-and-other-Infestations-and-Bit': 15,\n",
       " 'Seborrheic-Keratoses-and-other-Benign-Tumor': 16,\n",
       " 'Systemic-D': 17,\n",
       " 'Tinea-Ringworm-Candidiasis-and-other-Fungal-Infection': 18,\n",
       " 'Urticaria-Hiv': 19,\n",
       " 'Vascular-Tumor': 20,\n",
       " 'Vasculitis-Photo': 21,\n",
       " 'Warts-Molluscum-and-other-Viral-Infection': 22}"
      ]
     },
     "execution_count": 12,
     "metadata": {},
     "output_type": "execute_result"
    }
   ],
   "source": [
    "test_generator.class_indices"
   ]
  },
  {
   "cell_type": "code",
   "execution_count": 13,
   "metadata": {},
   "outputs": [],
   "source": [
    "model.save('model.h5')"
   ]
  },
  {
   "cell_type": "code",
   "execution_count": 14,
   "metadata": {},
   "outputs": [],
   "source": [
    "from keras.models import load_model\n",
    "\n",
    "load = load_model('model.h5')"
   ]
  },
  {
   "cell_type": "code",
   "execution_count": 15,
   "metadata": {},
   "outputs": [
    {
     "name": "stdout",
     "output_type": "stream",
     "text": [
      "_________________________________________________________________\n",
      "Layer (type)                 Output Shape              Param #   \n",
      "=================================================================\n",
      "conv2d_1 (Conv2D)            (None, 126, 126, 32)      896       \n",
      "_________________________________________________________________\n",
      "max_pooling2d_1 (MaxPooling2 (None, 63, 63, 32)        0         \n",
      "_________________________________________________________________\n",
      "conv2d_2 (Conv2D)            (None, 61, 61, 64)        18496     \n",
      "_________________________________________________________________\n",
      "max_pooling2d_2 (MaxPooling2 (None, 30, 30, 64)        0         \n",
      "_________________________________________________________________\n",
      "conv2d_3 (Conv2D)            (None, 28, 28, 128)       73856     \n",
      "_________________________________________________________________\n",
      "max_pooling2d_3 (MaxPooling2 (None, 14, 14, 128)       0         \n",
      "_________________________________________________________________\n",
      "flatten_1 (Flatten)          (None, 25088)             0         \n",
      "_________________________________________________________________\n",
      "dropout_1 (Dropout)          (None, 25088)             0         \n",
      "_________________________________________________________________\n",
      "dense_1 (Dense)              (None, 256)               6422784   \n",
      "_________________________________________________________________\n",
      "dense_2 (Dense)              (None, 23)                5911      \n",
      "=================================================================\n",
      "Total params: 6,521,943\n",
      "Trainable params: 6,521,943\n",
      "Non-trainable params: 0\n",
      "_________________________________________________________________\n"
     ]
    }
   ],
   "source": [
    "load.summary()"
   ]
  },
  {
   "cell_type": "code",
   "execution_count": 16,
   "metadata": {},
   "outputs": [],
   "source": [
    "# load.get_weights()"
   ]
  },
  {
   "cell_type": "markdown",
   "metadata": {},
   "source": [
    "# "
   ]
  },
  {
   "cell_type": "code",
   "execution_count": 17,
   "metadata": {},
   "outputs": [],
   "source": [
    "test_img, text_labels = next(test_generator)"
   ]
  },
  {
   "cell_type": "code",
   "execution_count": 21,
   "metadata": {},
   "outputs": [],
   "source": [
    "# text_labels\n",
    "prediction = model.predict_generator(test_generator, steps=1, verbose=0)"
   ]
  },
  {
   "cell_type": "code",
   "execution_count": 23,
   "metadata": {},
   "outputs": [],
   "source": [
    "import numpy as np\n",
    "answer = np.argmax(prediction, axis=1)"
   ]
  },
  {
   "cell_type": "code",
   "execution_count": 25,
   "metadata": {},
   "outputs": [
    {
     "data": {
      "text/plain": [
       "18"
      ]
     },
     "execution_count": 25,
     "metadata": {},
     "output_type": "execute_result"
    }
   ],
   "source": [
    "answer[0]"
   ]
  },
  {
   "cell_type": "code",
   "execution_count": null,
   "metadata": {},
   "outputs": [],
   "source": []
  }
 ],
 "metadata": {
  "kernelspec": {
   "display_name": "Python 3",
   "language": "python",
   "name": "python3"
  },
  "language_info": {
   "codemirror_mode": {
    "name": "ipython",
    "version": 3
   },
   "file_extension": ".py",
   "mimetype": "text/x-python",
   "name": "python",
   "nbconvert_exporter": "python",
   "pygments_lexer": "ipython3",
   "version": "3.6.5"
  }
 },
 "nbformat": 4,
 "nbformat_minor": 2
}
