{
 "cells": [
  {
   "cell_type": "code",
   "execution_count": null,
   "metadata": {
    "colab": {
     "base_uri": "https://localhost:8080/",
     "height": 125
    },
    "colab_type": "code",
    "id": "AIs674KPbhdP",
    "outputId": "740180cd-0856-446a-f2ad-aac1d24e90e4"
   },
   "outputs": [
    {
     "name": "stdout",
     "output_type": "stream",
     "text": [
      "E: Package 'python-software-properties' has no installation candidate\n",
      "\n",
      "\n",
      "\n",
      "\n",
      "··········\n"
     ]
    }
   ],
   "source": [
    "!apt-get install -y -qq software-properties-common python-software-properties module-init-tools\n",
    "!add-apt-repository -y ppa:alessandro-strada/ppa 2>&1 > /dev/null\n",
    "!apt-get update -qq 2>&1 > /dev/null\n",
    "!apt-get -y install -qq google-drive-ocamlfuse fuse\n",
    "from google.colab import auth\n",
    "auth.authenticate_user()\n",
    "from oauth2client.client import GoogleCredentials\n",
    "creds = GoogleCredentials.get_application_default()\n",
    "import getpass\n",
    "!google-drive-ocamlfuse -headless -id={creds.client_id} -secret={creds.client_secret} < /dev/null 2>&1 | grep URL\n",
    "vcode = getpass.getpass()\n",
    "!echo {vcode} | google-drive-ocamlfuse -headless -id={creds.client_id} -secret={creds.client_secret}"
   ]
  },
  {
   "cell_type": "code",
   "execution_count": null,
   "metadata": {
    "colab": {
     "base_uri": "https://localhost:8080/",
     "height": 89
    },
    "colab_type": "code",
    "id": "pd4E9V97bmhf",
    "outputId": "bce6a225-3e67-4cda-c7e2-5a35590b17f5"
   },
   "outputs": [
    {
     "name": "stdout",
     "output_type": "stream",
     "text": [
      "\n",
      "\n",
      "fuse: mountpoint is not empty\n",
      "fuse: if you are sure this is safe, use the 'nonempty' mount option\n"
     ]
    }
   ],
   "source": [
    "\n",
    "\n",
    "!mkdir -p drive\n",
    "!google-drive-ocamlfuse drive"
   ]
  },
  {
   "cell_type": "code",
   "execution_count": null,
   "metadata": {
    "colab": {},
    "colab_type": "code",
    "id": "BTK2kQM_dDDE"
   },
   "outputs": [],
   "source": [
    "from  urllib.request import urlopen\n",
    "from bs4 import BeautifulSoup as bs\n",
    "import pandas as pd\n",
    "import  time\n",
    "from urllib.request import urlretrieve\n",
    "import cv2\n",
    "import numpy as np\n",
    "from urllib.parse import urlparse\n",
    "import os\n",
    "from urllib.error import HTTPError\n",
    "import requests\n",
    "\n",
    "# starttime = time.datetime()\n",
    "\n",
    "\n",
    "\n"
   ]
  },
  {
   "cell_type": "code",
   "execution_count": null,
   "metadata": {
    "colab": {},
    "colab_type": "code",
    "id": "IWOy5yzuc3c_"
   },
   "outputs": [],
   "source": [
    "beginurl = \"http://www.dermnet.com\"\n",
    "url = \"http://www.dermnet.com/dermatology-pictures-skin-disease-pictures\"\n",
    "save_category_list = []\n",
    "fullcategory = []\n",
    "subfullcategory = []\n",
    "save_image_link = []\n",
    "\n",
    "\n",
    "\n",
    "parse = urlopen(url)\n",
    "soup = bs(parse, 'html.parser')\n",
    "findall_a_in_soup = soup.find('table').find_all('a')\n",
    "\n",
    "for i in findall_a_in_soup:\n",
    "    remove_href = i.get('href')\n",
    "    save_category_list.append(remove_href)\n",
    "    # print(category)\n",
    "    link_category = beginurl + remove_href\n",
    "#     print(link_category)\n",
    "    paser_subcategory = urlopen(link_category)\n",
    "    soup_subcategory = bs(paser_subcategory, 'html.parser')\n",
    "    findall_a_in_soup_subcategory = soup_subcategory.find('table').find_all('a')\n",
    "    \n",
    "    \n",
    "    for link_id in findall_a_in_soup_subcategory:\n",
    "      remove_href_in_link_id = link_id.get('href')\n",
    "      link_id_category = beginurl + remove_href_in_link_id\n",
    "      parse_image_link = urlopen(link_id_category)\n",
    "      soup_parse_image_link = bs(parse_image_link, 'html.parser')\n",
    "      soupimagefinddiv = soup_parse_image_link.findAll('div', 'thumbnails')#fuck you\n",
    "      #print first page before pagination\n",
    "      if soup_parse_image_link.find('div', 'pagination'):\n",
    "        a_in_pagination = soup_parse_image_link.find('div', 'pagination').findAll('a')\n",
    "        a_in_pagination.pop(-1)\n",
    "        \n",
    "        for a in a_in_pagination:\n",
    "          remove_href_from_a = a.get('href')\n",
    "          pagin_link = beginurl + remove_href_from_a\n",
    "          parse_pagin = urlopen(pagin_link)\n",
    "          soup_parse_pagin = bs(parse_pagin)\n",
    "          page_soup_image_findiv = soup_parse_pagin.findAll('div', 'thumbnails')\n",
    "          \n",
    "          for in_page_soup_image_findiv in page_soup_image_findiv:\n",
    "            get_image_in_page_soup_image_findiv = in_page_soup_image_findiv.find('img')\n",
    "#             print(get_image_in_page_soup_image_findiv)\n",
    "            image_in_page_soup_image_findiv = get_image_in_page_soup_image_findiv.get('src')\n",
    "            save_image_link.append(image_in_page_soup_image_findiv)\n",
    "#             fullcategory.append(remove_href_in_link_id)\n",
    "            fullcategory.append(remove_href)\n",
    "            subfullcategory.append(remove_href_from_a)\n",
    "            \n",
    "\n",
    "    \n"
   ]
  },
  {
   "cell_type": "code",
   "execution_count": null,
   "metadata": {
    "colab": {},
    "colab_type": "code",
    "id": "rfE_aoot7JUv"
   },
   "outputs": [],
   "source": []
  },
  {
   "cell_type": "code",
   "execution_count": null,
   "metadata": {
    "colab": {},
    "colab_type": "code",
    "id": "KKHX0UieiuI1"
   },
   "outputs": [],
   "source": [
    "data = pd.DataFrame({\"category\" : save_category_list})\n",
    "data.to_csv(\"drive/imageclassi/category.csv\", index= False)\n"
   ]
  },
  {
   "cell_type": "code",
   "execution_count": null,
   "metadata": {
    "colab": {},
    "colab_type": "code",
    "id": "U-4FMC3xdNJM"
   },
   "outputs": [],
   "source": [
    "\n",
    "save_fullcategory = pd.DataFrame({\"category\" : fullcategory})\n",
    "save_fullcategory.to_csv(\"drive/imageclassi/fullcategory.csv\", index= False)\n"
   ]
  },
  {
   "cell_type": "code",
   "execution_count": null,
   "metadata": {
    "colab": {},
    "colab_type": "code",
    "id": "VQZm0fX1kdkE"
   },
   "outputs": [],
   "source": [
    "\n",
    "save_subfullcategory = pd.DataFrame({\"category\" : subfullcategory})\n",
    "save_subfullcategory.to_csv(\"drive/imageclassi/subfullcategory.csv\", index= False)\n"
   ]
  },
  {
   "cell_type": "code",
   "execution_count": null,
   "metadata": {
    "colab": {},
    "colab_type": "code",
    "id": "mOa_fHdXpFv6"
   },
   "outputs": [],
   "source": [
    "save_file = pd.DataFrame({'category': fullcategory, 'subcategory':subfullcategory})\n",
    "save_file.to_csv('drive/imageclassi/dermnet.csv', index=False)"
   ]
  },
  {
   "cell_type": "markdown",
   "metadata": {
    "colab_type": "text",
    "id": "N6wecShtFKxk"
   },
   "source": []
  },
  {
   "cell_type": "code",
   "execution_count": null,
   "metadata": {
    "colab": {},
    "colab_type": "code",
    "id": "hg7CEk4gs7fF"
   },
   "outputs": [],
   "source": [
    "save_file = pd.DataFrame({'category': fullcategory, 'subcategory':subfullcategory, 'imagelink' :save_image_link})\n",
    "save_file.to_csv('drive/imageclassi/dermnetwithlink.csv', index=False)"
   ]
  },
  {
   "cell_type": "code",
   "execution_count": null,
   "metadata": {
    "colab": {},
    "colab_type": "code",
    "id": "ZOIdXeRwuBcC"
   },
   "outputs": [],
   "source": [
    "for each_image_link in save_image_link[7500:]:\n",
    "#   print(each_image_link)\n",
    "  filename = each_image_link.split('/')[-1]\n",
    "  resource = requests.get(each_image_link)\n",
    "  if resource.status_code == 404:\n",
    "    continue\n",
    "  else:\n",
    "    resource = urlopen(each_image_link)\n",
    "    with open('drive/imageclassi/dermnet/'+ filename,  'wb') as localFile:\n",
    "      localFile.write(resource.read())\n",
    " "
   ]
  },
  {
   "cell_type": "code",
   "execution_count": null,
   "metadata": {
    "colab": {
     "base_uri": "https://localhost:8080/",
     "height": 35
    },
    "colab_type": "code",
    "id": "hOx8nMAc5jhW",
    "outputId": "4d823f6a-028d-4d53-cb2a-358148435aed"
   },
   "outputs": [
    {
     "name": "stdout",
     "output_type": "stream",
     "text": [
      "http://www.dermnet.com/dn2/allJPGThumb3/acne-closed-comedo-20.jpg\n"
     ]
    }
   ],
   "source": [
    "print(save_image_link[3])"
   ]
  },
  {
   "cell_type": "code",
   "execution_count": null,
   "metadata": {
    "colab": {},
    "colab_type": "code",
    "id": "en5bMABW4Q2Y"
   },
   "outputs": [],
   "source": []
  }
 ],
 "metadata": {
  "colab": {
   "collapsed_sections": [],
   "name": "scraper.ipynb",
   "provenance": [],
   "version": "0.3.2"
  },
  "kernelspec": {
   "display_name": "Python 3",
   "language": "python",
   "name": "python3"
  },
  "language_info": {
   "codemirror_mode": {
    "name": "ipython",
    "version": 3
   },
   "file_extension": ".py",
   "mimetype": "text/x-python",
   "name": "python",
   "nbconvert_exporter": "python",
   "pygments_lexer": "ipython3",
   "version": "3.6.5"
  }
 },
 "nbformat": 4,
 "nbformat_minor": 2
}
