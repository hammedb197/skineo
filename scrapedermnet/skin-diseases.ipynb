{
 "cells": [
  {
   "cell_type": "code",
   "execution_count": 39,
   "metadata": {},
   "outputs": [],
   "source": [
    "import numpy as np\n",
    "import pandas as pd"
   ]
  },
  {
   "cell_type": "code",
   "execution_count": 49,
   "metadata": {},
   "outputs": [
    {
     "data": {
      "text/html": [
       "<div>\n",
       "<style scoped>\n",
       "    .dataframe tbody tr th:only-of-type {\n",
       "        vertical-align: middle;\n",
       "    }\n",
       "\n",
       "    .dataframe tbody tr th {\n",
       "        vertical-align: top;\n",
       "    }\n",
       "\n",
       "    .dataframe thead th {\n",
       "        text-align: right;\n",
       "    }\n",
       "</style>\n",
       "<table border=\"1\" class=\"dataframe\">\n",
       "  <thead>\n",
       "    <tr style=\"text-align: right;\">\n",
       "      <th></th>\n",
       "      <th>Unnamed: 0</th>\n",
       "      <th>soupsubcategory</th>\n",
       "    </tr>\n",
       "  </thead>\n",
       "  <tbody>\n",
       "    <tr>\n",
       "      <th>0</th>\n",
       "      <td>0</td>\n",
       "      <td>/images/Acne-Closed-Comedo</td>\n",
       "    </tr>\n",
       "    <tr>\n",
       "      <th>1</th>\n",
       "      <td>1</td>\n",
       "      <td>/images/Acne-Cystic</td>\n",
       "    </tr>\n",
       "    <tr>\n",
       "      <th>2</th>\n",
       "      <td>2</td>\n",
       "      <td>/images/Acne-Excoriated</td>\n",
       "    </tr>\n",
       "    <tr>\n",
       "      <th>3</th>\n",
       "      <td>3</td>\n",
       "      <td>/images/Acne-Histology</td>\n",
       "    </tr>\n",
       "    <tr>\n",
       "      <th>4</th>\n",
       "      <td>4</td>\n",
       "      <td>/images/Acne-Infantile</td>\n",
       "    </tr>\n",
       "  </tbody>\n",
       "</table>\n",
       "</div>"
      ],
      "text/plain": [
       "   Unnamed: 0             soupsubcategory\n",
       "0           0  /images/Acne-Closed-Comedo\n",
       "1           1         /images/Acne-Cystic\n",
       "2           2     /images/Acne-Excoriated\n",
       "3           3      /images/Acne-Histology\n",
       "4           4      /images/Acne-Infantile"
      ]
     },
     "execution_count": 49,
     "metadata": {},
     "output_type": "execute_result"
    }
   ],
   "source": [
    "dataset = pd.read_csv('soupsubcategory.csv')\n",
    "dataset.head()"
   ]
  },
  {
   "cell_type": "code",
   "execution_count": 48,
   "metadata": {},
   "outputs": [
    {
     "name": "stdout",
     "output_type": "stream",
     "text": [
      "      Unnamed: 0                              soupsubcategory\n",
      "0              0                           Acne-Closed-Comedo\n",
      "1              1                                  Acne-Cystic\n",
      "2              2                              Acne-Excoriated\n",
      "3              3                               Acne-Histology\n",
      "4              4                                Acne-Infantil\n",
      "5              5                                Acne-Mechanic\n",
      "6              6                             Acne-Open-Comedo\n",
      "7              7                          Acne-Primary-Lesion\n",
      "8              8                                Acne-Pustular\n",
      "9              9                                    Acne-Scar\n",
      "10            10                                 Acne-Steroid\n",
      "11            11                     Gram-Negative-Folliculit\n",
      "12            12                      Hidradenitis-Suppurativ\n",
      "13            13                                   Hyperhidro\n",
      "14            14                                          Mil\n",
      "15            15                     Minocycline-Pigmentation\n",
      "16            16                             Nevus-Comedonicu\n",
      "17            17                            Perioral-Dermatit\n",
      "18            18  Prominent-Sebaceous-Glands-and-Fordyce-Spot\n",
      "19            19                                        Rosac\n",
      "20            20                         Rosacea-Granulomatou\n",
      "21            21                                   Rosacea-No\n",
      "22            22                              Rosacea-Steroid\n",
      "23            23                                      Tes-Cat\n",
      "24            24                                    testcat-6\n",
      "25            25                           Acne-Closed-Comedo\n",
      "26            26                                  Acne-Cystic\n",
      "27            27                              Acne-Excoriated\n",
      "28            28                               Acne-Histology\n",
      "29            29                                Acne-Infantil\n",
      "...          ...                                          ...\n",
      "7735        7735                                Sweets-Syndro\n",
      "7736        7736                      Toxic-Epidermal-Necroly\n",
      "7737        7737                                     Vasculit\n",
      "7738        7738                                   Black-Heel\n",
      "7739        7739                                         Corn\n",
      "7740        7740                             Eczema-Herpeticu\n",
      "7741        7741                             Eczema-Vaccinatu\n",
      "7742        7742                              Hand-Foot-Mouth\n",
      "7743        7743                               Herpes-Buttock\n",
      "7744        7744                              Herpes-Cutaneou\n",
      "7745        7745                     Herpes-Immunocompromised\n",
      "7746        7746                               Herpes-Simplex\n",
      "7747        7747                        Herpes-Type-1-Primary\n",
      "7748        7748                      Herpes-Type-1-Recurrent\n",
      "7749        7749                                Herpes-Zoster\n",
      "7750        7750                         Molluscum-Contagiosu\n",
      "7751        7751                                   Monkey-Pox\n",
      "7752        7752                                          Orf\n",
      "7753        7753                                    Small-Pox\n",
      "7754        7754                                     Varicell\n",
      "7755        7755                                         Wart\n",
      "7756        7756                                 Warts-Common\n",
      "7757        7757                            Warts-Cryotherapy\n",
      "7758        7758                                Warts-Digitat\n",
      "7759        7759                                   Warts-Flat\n",
      "7760        7760                      Warts-Immunocompromised\n",
      "7761        7761                                   Warts-Oral\n",
      "7762        7762                             Warts-Periungual\n",
      "7763        7763                                Warts-Plantar\n",
      "7764        7764                              Warts-Treatment\n",
      "\n",
      "[7765 rows x 2 columns]\n"
     ]
    }
   ],
   "source": [
    "new_dataset = dataset.select_dtypes(['object'])\n",
    "dataset[new_dataset.columns] = new_dataset.apply(lambda x: x.str.strip('/images'))\n",
    "print (dataset)"
   ]
  },
  {
   "cell_type": "code",
   "execution_count": null,
   "metadata": {},
   "outputs": [],
   "source": []
  }
 ],
 "metadata": {
  "kernelspec": {
   "display_name": "Python 3",
   "language": "python",
   "name": "python3"
  },
  "language_info": {
   "codemirror_mode": {
    "name": "ipython",
    "version": 3
   },
   "file_extension": ".py",
   "mimetype": "text/x-python",
   "name": "python",
   "nbconvert_exporter": "python",
   "pygments_lexer": "ipython3",
   "version": "3.7.0"
  }
 },
 "nbformat": 4,
 "nbformat_minor": 2
}
