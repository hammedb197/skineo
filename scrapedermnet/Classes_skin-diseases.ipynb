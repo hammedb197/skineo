{
 "cells": [
  {
   "cell_type": "code",
   "execution_count": 7,
   "metadata": {},
   "outputs": [],
   "source": [
    "import pandas as pd"
   ]
  },
  {
   "cell_type": "code",
   "execution_count": 16,
   "metadata": {},
   "outputs": [
    {
     "data": {
      "text/html": [
       "<div>\n",
       "<style scoped>\n",
       "    .dataframe tbody tr th:only-of-type {\n",
       "        vertical-align: middle;\n",
       "    }\n",
       "\n",
       "    .dataframe tbody tr th {\n",
       "        vertical-align: top;\n",
       "    }\n",
       "\n",
       "    .dataframe thead th {\n",
       "        text-align: right;\n",
       "    }\n",
       "</style>\n",
       "<table border=\"1\" class=\"dataframe\">\n",
       "  <thead>\n",
       "    <tr style=\"text-align: right;\">\n",
       "      <th></th>\n",
       "      <th>Unnamed: 0</th>\n",
       "      <th>category</th>\n",
       "    </tr>\n",
       "  </thead>\n",
       "  <tbody>\n",
       "    <tr>\n",
       "      <th>0</th>\n",
       "      <td>0</td>\n",
       "      <td>/images/Acne-and-Rosacea-Photos/</td>\n",
       "    </tr>\n",
       "    <tr>\n",
       "      <th>1</th>\n",
       "      <td>1</td>\n",
       "      <td>/images/Actinic-Keratosis-Basal-Cell-Carcinoma...</td>\n",
       "    </tr>\n",
       "    <tr>\n",
       "      <th>2</th>\n",
       "      <td>2</td>\n",
       "      <td>/images/Atopic-Dermatitis-Photos/</td>\n",
       "    </tr>\n",
       "    <tr>\n",
       "      <th>3</th>\n",
       "      <td>3</td>\n",
       "      <td>/images/Bullous-Disease-Photos/</td>\n",
       "    </tr>\n",
       "    <tr>\n",
       "      <th>4</th>\n",
       "      <td>4</td>\n",
       "      <td>/images/Cellulitis-Impetigo-and-other-Bacteria...</td>\n",
       "    </tr>\n",
       "  </tbody>\n",
       "</table>\n",
       "</div>"
      ],
      "text/plain": [
       "   Unnamed: 0                                           category\n",
       "0           0                   /images/Acne-and-Rosacea-Photos/\n",
       "1           1  /images/Actinic-Keratosis-Basal-Cell-Carcinoma...\n",
       "2           2                  /images/Atopic-Dermatitis-Photos/\n",
       "3           3                    /images/Bullous-Disease-Photos/\n",
       "4           4  /images/Cellulitis-Impetigo-and-other-Bacteria..."
      ]
     },
     "execution_count": 16,
     "metadata": {},
     "output_type": "execute_result"
    }
   ],
   "source": [
    "classes = pd.read_csv(\"/home/hammed/Documents/PythonProject/ds-ml-al/Skin-disease/scrapedermnet/dataset/newcategory.csv\")\n",
    "classes.head()"
   ]
  },
  {
   "cell_type": "code",
   "execution_count": 12,
   "metadata": {},
   "outputs": [],
   "source": [
    "new_classes = classes.select_dtypes(['object'])\n",
    "classes[new_classes.columns] = new_classes.apply(lambda x: x.str.strip('/images'))\n"
   ]
  },
  {
   "cell_type": "code",
   "execution_count": 13,
   "metadata": {},
   "outputs": [
    {
     "data": {
      "text/html": [
       "<div>\n",
       "<style scoped>\n",
       "    .dataframe tbody tr th:only-of-type {\n",
       "        vertical-align: middle;\n",
       "    }\n",
       "\n",
       "    .dataframe tbody tr th {\n",
       "        vertical-align: top;\n",
       "    }\n",
       "\n",
       "    .dataframe thead th {\n",
       "        text-align: right;\n",
       "    }\n",
       "</style>\n",
       "<table border=\"1\" class=\"dataframe\">\n",
       "  <thead>\n",
       "    <tr style=\"text-align: right;\">\n",
       "      <th></th>\n",
       "      <th>Unnamed: 0</th>\n",
       "      <th>category</th>\n",
       "    </tr>\n",
       "  </thead>\n",
       "  <tbody>\n",
       "    <tr>\n",
       "      <th>0</th>\n",
       "      <td>0</td>\n",
       "      <td>Acne-and-Rosacea-Photo</td>\n",
       "    </tr>\n",
       "    <tr>\n",
       "      <th>1</th>\n",
       "      <td>1</td>\n",
       "      <td>Actinic-Keratosis-Basal-Cell-Carcinoma-and-oth...</td>\n",
       "    </tr>\n",
       "    <tr>\n",
       "      <th>2</th>\n",
       "      <td>2</td>\n",
       "      <td>Atopic-Dermatitis-Photo</td>\n",
       "    </tr>\n",
       "    <tr>\n",
       "      <th>3</th>\n",
       "      <td>3</td>\n",
       "      <td>Bullous-Disease-Photo</td>\n",
       "    </tr>\n",
       "    <tr>\n",
       "      <th>4</th>\n",
       "      <td>4</td>\n",
       "      <td>Cellulitis-Impetigo-and-other-Bacterial-Infection</td>\n",
       "    </tr>\n",
       "  </tbody>\n",
       "</table>\n",
       "</div>"
      ],
      "text/plain": [
       "   Unnamed: 0                                           category\n",
       "0           0                             Acne-and-Rosacea-Photo\n",
       "1           1  Actinic-Keratosis-Basal-Cell-Carcinoma-and-oth...\n",
       "2           2                            Atopic-Dermatitis-Photo\n",
       "3           3                              Bullous-Disease-Photo\n",
       "4           4  Cellulitis-Impetigo-and-other-Bacterial-Infection"
      ]
     },
     "execution_count": 13,
     "metadata": {},
     "output_type": "execute_result"
    }
   ],
   "source": [
    "classes."
   ]
  },
  {
   "cell_type": "code",
   "execution_count": 10,
   "metadata": {},
   "outputs": [
    {
     "name": "stdout",
     "output_type": "stream",
     "text": [
      "/home/hammed/Documents/PythonProject/ds-ml-al/Skin-disease/scrapedermnet\r\n"
     ]
    }
   ],
   "source": [
    "!pwd"
   ]
  },
  {
   "cell_type": "code",
   "execution_count": 17,
   "metadata": {},
   "outputs": [
    {
     "name": "stdout",
     "output_type": "stream",
     "text": [
      "Collecting pyspark\n",
      "\u001b[?25l  Downloading https://files.pythonhosted.org/packages/88/01/a37e827c2d80c6a754e40e99b9826d978b55254cc6c6672b5b08f2e18a7f/pyspark-2.4.0.tar.gz (213.4MB)\n"
     ]
    },
    {
     "name": "stdout",
     "output_type": "stream",
     "text": [
      "\u001b[K    66% |█████████████████████▏          | 141.1MB 309kB/s eta 0:03:5461% |▍                               | 2.5MB 186kB/s eta 0:18:51    1% |▌                               | 3.1MB 226kB/s eta 0:15:28    1% |▌                               | 3.3MB 147kB/s eta 0:23:41    1% |▋                               | 4.0MB 418kB/s eta 0:08:21    3% |█                               | 7.2MB 172kB/s eta 0:19:55    5% |█▋                              | 10.9MB 756kB/s eta 0:04:28    6% |██                              | 13.0MB 620kB/s eta 0:05:24    6% |██                              | 13.9MB 207kB/s eta 0:16:01    6% |██▏                             | 14.5MB 384kB/s eta 0:08:37    8% |██▋                             | 17.5MB 959kB/s eta 0:03:25    8% |██▊                             | 18.3MB 722kB/s eta 0:04:31    8% |██▉                             | 19.2MB 1.1MB/s eta 0:02:55    9% |███                             | 20.0MB 364kB/s eta 0:08:51    9% |███                             | 20.6MB 328kB/s eta 0:09:47    10% |███▌                            | 23.2MB 558kB/s eta 0:05:41    11% |███▊                            | 24.5MB 360kB/s eta 0:08:45    12% |████                            | 26.8MB 554kB/s eta 0:05:37    12% |████▏                           | 27.5MB 431kB/s eta 0:07:12    13% |████▍                           | 29.1MB 224kB/s eta 0:13:41    14% |████▊                           | 31.5MB 103kB/s eta 0:29:13    15% |████▉                           | 32.2MB 120kB/s eta 0:25:03    15% |████▉                           | 32.4MB 211kB/s eta 0:14:15    15% |█████                           | 32.8MB 487kB/s eta 0:06:11    16% |█████▏                          | 34.3MB 252kB/s eta 0:11:50    16% |█████▎                          | 35.2MB 66kB/s eta 0:44:51    16% |█████▎                          | 35.2MB 106kB/s eta 0:27:50    18% |█████▊                          | 38.4MB 230kB/s eta 0:12:40    18% |██████                          | 40.3MB 36kB/s eta 1:18:39    20% |██████▌                         | 43.7MB 83kB/s eta 0:33:55    20% |██████▋                         | 44.3MB 274kB/s eta 0:10:16    21% |██████▊                         | 45.2MB 521kB/s eta 0:05:23    21% |██████▉                         | 45.4MB 664kB/s eta 0:04:14    22% |███████                         | 47.0MB 736kB/s eta 0:03:47    22% |███████                         | 47.3MB 714kB/s eta 0:03:53    22% |███████▏                        | 47.7MB 882kB/s eta 0:03:08    22% |███████▏                        | 48.0MB 913kB/s eta 0:03:02    22% |███████▎                        | 48.5MB 596kB/s eta 0:04:37    23% |███████▌                        | 50.2MB 547kB/s eta 0:04:59    23% |███████▋                        | 51.0MB 172kB/s eta 0:15:40    24% |███████▊                        | 51.3MB 209kB/s eta 0:12:56    24% |███████▊                        | 51.3MB 184kB/s eta 0:14:39    24% |███████▉                        | 52.1MB 237kB/s eta 0:11:19    24% |████████                        | 53.3MB 118kB/s eta 0:22:28    25% |████████▎                       | 54.9MB 314kB/s eta 0:08:25    25% |████████▎                       | 55.2MB 348kB/s eta 0:07:35    26% |████████▋                       | 57.1MB 384kB/s eta 0:06:48    28% |█████████                       | 60.0MB 507kB/s eta 0:05:03    28% |█████████                       | 60.5MB 594kB/s eta 0:04:17    30% |█████████▊                      | 64.7MB 1.1MB/s eta 0:02:20    31% |██████████                      | 66.4MB 913kB/s eta 0:02:41    32% |██████████▎                     | 68.6MB 191kB/s eta 0:12:37    32% |██████████▎                     | 68.9MB 139kB/s eta 0:17:16    32% |██████████▍                     | 68.9MB 150kB/s eta 0:15:59    32% |██████████▍                     | 69.4MB 92kB/s eta 0:25:49    33% |██████████▋                     | 70.6MB 123kB/s eta 0:19:19    33% |██████████▊                     | 71.1MB 288kB/s eta 0:08:14    33% |██████████▊                     | 71.2MB 297kB/s eta 0:07:59    33% |██████████▊                     | 71.3MB 289kB/s eta 0:08:11    33% |██████████▊                     | 71.4MB 332kB/s eta 0:07:07    34% |███████████                     | 72.8MB 345kB/s eta 0:06:47    34% |███████████                     | 73.1MB 154kB/s eta 0:15:09    35% |███████████▎                    | 74.9MB 41kB/s eta 0:56:00    35% |███████████▎                    | 75.0MB 92kB/s eta 0:24:59    35% |███████████▎                    | 75.6MB 233kB/s eta 0:09:52    35% |███████████▍                    | 76.1MB 429kB/s eta 0:05:20    36% |███████████▊                    | 78.5MB 7.2MB/s eta 0:00:19    37% |████████████                    | 79.5MB 684kB/s eta 0:03:16    37% |████████████                    | 80.1MB 165kB/s eta 0:13:24    37% |████████████                    | 80.2MB 214kB/s eta 0:10:22    38% |████████████▌                   | 83.1MB 277kB/s eta 0:07:50    41% |█████████████▍                  | 89.3MB 387kB/s eta 0:05:21    42% |█████████████▋                  | 90.5MB 405kB/s eta 0:05:04    42% |█████████████▋                  | 91.0MB 399kB/s eta 0:05:07    43% |█████████████▉                  | 92.4MB 590kB/s eta 0:03:26    44% |██████████████▏                 | 94.8MB 324kB/s eta 0:06:06    44% |██████████████▎                 | 95.2MB 164kB/s eta 0:11:58    45% |██████████████▌                 | 96.5MB 270kB/s eta 0:07:12    46% |██████████████▊                 | 98.2MB 958kB/s eta 0:02:01    46% |███████████████                 | 99.8MB 800kB/s eta 0:02:22    47% |███████████████▏                | 101.4MB 957kB/s eta 0:01:57    48% |███████████████▋                | 104.2MB 865kB/s eta 0:02:07    49% |███████████████▊                | 104.9MB 690kB/s eta 0:02:38    49% |███████████████▉                | 105.5MB 904kB/s eta 0:02:00    49% |████████████████                | 106.1MB 833kB/s eta 0:02:09    50% |████████████████▏               | 107.8MB 867kB/s eta 0:02:02    50% |████████████████▏               | 107.8MB 856kB/s eta 0:02:04    52% |████████████████▋               | 111.1MB 208kB/s eta 0:08:12    52% |████████████████▋               | 111.1MB 160kB/s eta 0:10:39    52% |████████████████▊               | 111.8MB 265kB/s eta 0:06:23    52% |████████████████▊               | 111.8MB 237kB/s eta 0:07:08    52% |████████████████▉               | 112.2MB 353kB/s eta 0:04:47    53% |█████████████████               | 113.4MB 611kB/s eta 0:02:44    55% |█████████████████▋              | 117.4MB 850kB/s eta 0:01:53    56% |██████████████████              | 120.2MB 926kB/s eta 0:01:41    57% |██████████████████▎             | 121.7MB 739kB/s eta 0:02:04    57% |██████████████████▌             | 123.5MB 467kB/s eta 0:03:13    58% |██████████████████▋             | 124.5MB 527kB/s eta 0:02:49    58% |██████████████████▊             | 124.7MB 480kB/s eta 0:03:05    58% |██████████████████▉             | 125.3MB 378kB/s eta 0:03:53    59% |███████████████████             | 126.2MB 286kB/s eta 0:05:05    59% |███████████████████             | 127.1MB 413kB/s eta 0:03:29    59% |███████████████████             | 127.3MB 432kB/s eta 0:03:20    60% |███████████████████▍            | 129.2MB 805kB/s eta 0:01:45    60% |███████████████████▍            | 129.2MB 423kB/s eta 0:03:19    61% |███████████████████▊            | 131.3MB 392kB/s eta 0:03:30    62% |████████████████████            | 132.9MB 647kB/s eta 0:02:05    62% |████████████████████            | 133.2MB 695kB/s eta 0:01:56    62% |████████████████████            | 133.5MB 718kB/s eta 0:01:52    63% |████████████████████▎           | 135.2MB 357kB/s eta 0:03:39    63% |████████████████████▍           | 135.7MB 193kB/s eta 0:06:42    63% |████████████████████▍           | 135.8MB 234kB/s eta 0:05:31    64% |████████████████████▋           | 137.1MB 403kB/s eta 0:03:09    64% |████████████████████▊           | 137.9MB 277kB/s eta 0:04:33    66% |█████████████████████▏          | 141.0MB 461kB/s eta 0:02:37    66% |█████████████████████▏          | 141.1MB 332kB/s eta 0:03:38\r",
      "\u001b[K    66% |█████████████████████▏          | 141.1MB 242kB/s eta 0:04:59\r",
      "\u001b[K    66% |█████████████████████▏          | 141.1MB 287kB/s eta 0:04:12\r",
      "\u001b[K    66% |█████████████████████▏          | 141.1MB 293kB/s eta 0:04:06\r",
      "\u001b[K    66% |█████████████████████▏          | 141.1MB 293kB/s eta 0:04:06"
     ]
    },
    {
     "name": "stdout",
     "output_type": "stream",
     "text": [
      "\u001b[K    100% |████████████████████████████████| 213.4MB 4.5kB/s ta 0:00:013   67% |█████████████████████▋          | 144.3MB 402kB/s eta 0:02:52    68% |██████████████████████          | 146.6MB 355kB/s eta 0:03:08    69% |██████████████████████▎         | 148.6MB 101kB/s eta 0:10:41    70% |██████████████████████▊         | 151.2MB 344kB/s eta 0:03:01    71% |██████████████████████▊         | 151.7MB 357kB/s eta 0:02:53    71% |██████████████████████▊         | 151.8MB 361kB/s eta 0:02:51    72% |███████████████████████         | 153.8MB 229kB/s eta 0:04:20    72% |███████████████████████▏        | 154.6MB 271kB/s eta 0:03:37    72% |███████████████████████▎        | 155.0MB 316kB/s eta 0:03:05    74% |███████████████████████▊        | 158.3MB 497kB/s eta 0:01:51    74% |███████████████████████▊        | 158.5MB 460kB/s eta 0:02:00    75% |████████████████████████        | 160.4MB 423kB/s eta 0:02:06    75% |████████████████████████        | 160.7MB 201kB/s eta 0:04:22    75% |████████████████████████▏       | 160.8MB 288kB/s eta 0:03:03    75% |████████████████████████▏       | 161.2MB 263kB/s eta 0:03:19    76% |████████████████████████▍       | 163.0MB 536kB/s eta 0:01:34    76% |████████████████████████▌       | 163.4MB 662kB/s eta 0:01:16    77% |████████████████████████▊       | 165.1MB 387kB/s eta 0:02:05    77% |█████████████████████████       | 166.4MB 436kB/s eta 0:01:48    78% |█████████████████████████       | 167.3MB 385kB/s eta 0:02:00    78% |█████████████████████████▏      | 167.7MB 369kB/s eta 0:02:04    78% |█████████████████████████▏      | 168.1MB 417kB/s eta 0:01:49    80% |█████████████████████████▊      | 171.2MB 690kB/s eta 0:01:02    80% |█████████████████████████▉      | 172.5MB 1.0MB/s eta 0:00:41    81% |██████████████████████████      | 173.5MB 545kB/s eta 0:01:14    81% |██████████████████████████▏     | 174.8MB 692kB/s eta 0:00:56    82% |██████████████████████████▎     | 175.6MB 557kB/s eta 0:01:08    84% |███████████████████████████     | 179.3MB 158kB/s eta 0:03:36    84% |███████████████████████████     | 179.5MB 291kB/s eta 0:01:57    84% |███████████████████████████     | 180.2MB 420kB/s eta 0:01:20    84% |███████████████████████████     | 180.4MB 519kB/s eta 0:01:04    87% |████████████████████████████    | 186.2MB 1.1MB/s eta 0:00:25    87% |████████████████████████████    | 186.5MB 1.2MB/s eta 0:00:24    88% |████████████████████████████▎   | 188.3MB 717kB/s eta 0:00:36    88% |████████████████████████████▍   | 189.6MB 730kB/s eta 0:00:33    89% |████████████████████████████▋   | 190.5MB 436kB/s eta 0:00:53    89% |████████████████████████████▊   | 191.7MB 111kB/s eta 0:03:15    90% |█████████████████████████████   | 192.8MB 276kB/s eta 0:01:15    92% |█████████████████████████████▊  | 197.9MB 30kB/s eta 0:08:21    93% |██████████████████████████████  | 199.6MB 304kB/s eta 0:00:46    93% |██████████████████████████████  | 199.7MB 316kB/s eta 0:00:44    93% |██████████████████████████████  | 200.3MB 316kB/s eta 0:00:42    94% |██████████████████████████████  | 200.7MB 337kB/s eta 0:00:38    94% |██████████████████████████████▏ | 201.2MB 262kB/s eta 0:00:47    94% |██████████████████████████████▏ | 201.4MB 225kB/s eta 0:00:54    95% |██████████████████████████████▍ | 202.8MB 167kB/s eta 0:01:04    95% |██████████████████████████████▍ | 202.9MB 185kB/s eta 0:00:57    95% |██████████████████████████████▌ | 203.1MB 152kB/s eta 0:01:08    95% |██████████████████████████████▌ | 203.7MB 283kB/s eta 0:00:35    95% |██████████████████████████████▋ | 203.8MB 336kB/s eta 0:00:29    95% |██████████████████████████████▋ | 204.2MB 153kB/s eta 0:01:00    95% |██████████████████████████████▊ | 204.7MB 228kB/s eta 0:00:39    96% |██████████████████████████████▉ | 205.5MB 149kB/s eta 0:00:53    96% |███████████████████████████████ | 206.8MB 155kB/s eta 0:00:43    97% |███████████████████████████████▏| 207.6MB 378kB/s eta 0:00:16    98% |███████████████████████████████▌| 209.7MB 186kB/s eta 0:00:20    98% |███████████████████████████████▋| 211.1MB 233kB/s eta 0:00:10    99% |███████████████████████████████▉| 212.3MB 173kB/s eta 0:00:07\n",
      "\u001b[?25hCollecting py4j==0.10.7 (from pyspark)\n",
      "\u001b[?25l  Downloading https://files.pythonhosted.org/packages/e3/53/c737818eb9a7dc32a7cd4f1396e787bd94200c3997c72c1dbe028587bd76/py4j-0.10.7-py2.py3-none-any.whl (197kB)\n",
      "\u001b[K    100% |████████████████████████████████| 204kB 204kB/s ta 0:00:01\n",
      "\u001b[?25hBuilding wheels for collected packages: pyspark\n",
      "  Running setup.py bdist_wheel for pyspark ... \u001b[?25ldone\n",
      "\u001b[?25h  Stored in directory: /home/hammed/.cache/pip/wheels/cd/54/c2/abfcc942eddeaa7101228ebd6127a30dbdf903c72db4235b23\n",
      "Successfully built pyspark\n",
      "Installing collected packages: py4j, pyspark\n",
      "Successfully installed py4j-0.10.7 pyspark-2.4.0\n",
      "\u001b[33mYou are using pip version 18.1, however version 19.0.2 is available.\n",
      "You should consider upgrading via the 'pip install --upgrade pip' command.\u001b[0m\n"
     ]
    }
   ],
   "source": [
    "!pip install pyspark"
   ]
  },
  {
   "cell_type": "code",
   "execution_count": null,
   "metadata": {},
   "outputs": [],
   "source": []
  }
 ],
 "metadata": {
  "kernelspec": {
   "display_name": "Python 3",
   "language": "python",
   "name": "python3"
  },
  "language_info": {
   "codemirror_mode": {
    "name": "ipython",
    "version": 3
   },
   "file_extension": ".py",
   "mimetype": "text/x-python",
   "name": "python",
   "nbconvert_exporter": "python",
   "pygments_lexer": "ipython3",
   "version": "3.6.5"
  }
 },
 "nbformat": 4,
 "nbformat_minor": 2
}
