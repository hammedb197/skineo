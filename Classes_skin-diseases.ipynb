{
 "cells": [
  {
   "cell_type": "code",
   "execution_count": 1,
   "metadata": {},
   "outputs": [],
   "source": [
    "import pandas as pd"
   ]
  },
  {
   "cell_type": "code",
   "execution_count": 4,
   "metadata": {},
   "outputs": [
    {
     "data": {
      "text/html": [
       "<div>\n",
       "<style scoped>\n",
       "    .dataframe tbody tr th:only-of-type {\n",
       "        vertical-align: middle;\n",
       "    }\n",
       "\n",
       "    .dataframe tbody tr th {\n",
       "        vertical-align: top;\n",
       "    }\n",
       "\n",
       "    .dataframe thead th {\n",
       "        text-align: right;\n",
       "    }\n",
       "</style>\n",
       "<table border=\"1\" class=\"dataframe\">\n",
       "  <thead>\n",
       "    <tr style=\"text-align: right;\">\n",
       "      <th></th>\n",
       "      <th>Unnamed: 0</th>\n",
       "      <th>category</th>\n",
       "    </tr>\n",
       "  </thead>\n",
       "  <tbody>\n",
       "    <tr>\n",
       "      <th>0</th>\n",
       "      <td>0</td>\n",
       "      <td>/images/Acne-and-Rosacea-Photos/</td>\n",
       "    </tr>\n",
       "    <tr>\n",
       "      <th>1</th>\n",
       "      <td>1</td>\n",
       "      <td>/images/Actinic-Keratosis-Basal-Cell-Carcinoma...</td>\n",
       "    </tr>\n",
       "    <tr>\n",
       "      <th>2</th>\n",
       "      <td>2</td>\n",
       "      <td>/images/Atopic-Dermatitis-Photos/</td>\n",
       "    </tr>\n",
       "    <tr>\n",
       "      <th>3</th>\n",
       "      <td>3</td>\n",
       "      <td>/images/Bullous-Disease-Photos/</td>\n",
       "    </tr>\n",
       "    <tr>\n",
       "      <th>4</th>\n",
       "      <td>4</td>\n",
       "      <td>/images/Cellulitis-Impetigo-and-other-Bacteria...</td>\n",
       "    </tr>\n",
       "  </tbody>\n",
       "</table>\n",
       "</div>"
      ],
      "text/plain": [
       "   Unnamed: 0                                           category\n",
       "0           0                   /images/Acne-and-Rosacea-Photos/\n",
       "1           1  /images/Actinic-Keratosis-Basal-Cell-Carcinoma...\n",
       "2           2                  /images/Atopic-Dermatitis-Photos/\n",
       "3           3                    /images/Bullous-Disease-Photos/\n",
       "4           4  /images/Cellulitis-Impetigo-and-other-Bacteria..."
      ]
     },
     "execution_count": 4,
     "metadata": {},
     "output_type": "execute_result"
    }
   ],
   "source": [
    "classes = pd.read_csv(\"newcategory.csv\")\n",
    "classes.head()"
   ]
  },
  {
   "cell_type": "code",
   "execution_count": 5,
   "metadata": {},
   "outputs": [
    {
     "name": "stdout",
     "output_type": "stream",
     "text": [
      "    Unnamed: 0                                           category\n",
      "0            0                             Acne-and-Rosacea-Photo\n",
      "1            1  Actinic-Keratosis-Basal-Cell-Carcinoma-and-oth...\n",
      "2            2                            Atopic-Dermatitis-Photo\n",
      "3            3                              Bullous-Disease-Photo\n",
      "4            4  Cellulitis-Impetigo-and-other-Bacterial-Infection\n",
      "5            5                                       Eczema-Photo\n",
      "6            6                        Exanthems-and-Drug-Eruption\n",
      "7            7         Hair-Loss-Photos-Alopecia-and-other-Hair-D\n",
      "8            8                    Herpes-HPV-and-other-STDs-Photo\n",
      "9            9       Light-Diseases-and-Disorders-of-Pigmentation\n",
      "10          10                Lupus-and-other-Connective-Tissue-d\n",
      "11          11                  Melanoma-Skin-Cancer-Nevi-and-Mol\n",
      "12          12                       Nail-Fungus-and-other-Nail-D\n",
      "13          13       Poison-Ivy-Photos-and-other-Contact-Dermatit\n",
      "14          14     Psoriasis-pictures-Lichen-Planus-and-related-d\n",
      "15          15  Scabies-Lyme-Disease-and-other-Infestations-an...\n",
      "16          16        Seborrheic-Keratoses-and-other-Benign-Tumor\n",
      "17          17                                         Systemic-D\n",
      "18          18  Tinea-Ringworm-Candidiasis-and-other-Fungal-In...\n",
      "19          19                                      Urticaria-Hiv\n",
      "20          20                                     Vascular-Tumor\n",
      "21          21                                   Vasculitis-Photo\n",
      "22          22          Warts-Molluscum-and-other-Viral-Infection\n"
     ]
    }
   ],
   "source": [
    "new_classes = classes.select_dtypes(['object'])\n",
    "classes[new_classes.columns] = new_classes.apply(lambda x: x.str.strip('/images'))\n",
    "print(classes)"
   ]
  },
  {
   "cell_type": "code",
   "execution_count": null,
   "metadata": {},
   "outputs": [],
   "source": []
  }
 ],
 "metadata": {
  "kernelspec": {
   "display_name": "Python 3",
   "language": "python",
   "name": "python3"
  },
  "language_info": {
   "codemirror_mode": {
    "name": "ipython",
    "version": 3
   },
   "file_extension": ".py",
   "mimetype": "text/x-python",
   "name": "python",
   "nbconvert_exporter": "python",
   "pygments_lexer": "ipython3",
   "version": "3.7.0"
  }
 },
 "nbformat": 4,
 "nbformat_minor": 2
}
